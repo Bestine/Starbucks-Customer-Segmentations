{
 "cells": [
  {
   "cell_type": "markdown",
   "id": "1bb7a74c",
   "metadata": {},
   "source": [
    "**Load the required libraries and data**"
   ]
  },
  {
   "cell_type": "code",
   "execution_count": 1,
   "id": "de6e1944",
   "metadata": {},
   "outputs": [],
   "source": [
    "# Load the required libraries \n",
    "import pandas as pd\n",
    "import numpy as np \n",
    "from matplotlib import pyplot as plt\n",
    "import seaborn as sns "
   ]
  },
  {
   "cell_type": "code",
   "execution_count": null,
   "id": "d471cff6",
   "metadata": {},
   "outputs": [],
   "source": [
    "# Load the data files \n"
   ]
  }
 ],
 "metadata": {
  "kernelspec": {
   "display_name": "Python 3 (ipykernel)",
   "language": "python",
   "name": "python3"
  },
  "language_info": {
   "codemirror_mode": {
    "name": "ipython",
    "version": 3
   },
   "file_extension": ".py",
   "mimetype": "text/x-python",
   "name": "python",
   "nbconvert_exporter": "python",
   "pygments_lexer": "ipython3",
   "version": "3.10.6"
  }
 },
 "nbformat": 4,
 "nbformat_minor": 5
}
