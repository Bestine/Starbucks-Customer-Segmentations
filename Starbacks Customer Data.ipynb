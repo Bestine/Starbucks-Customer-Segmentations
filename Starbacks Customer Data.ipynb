{
 "cells": [
  {
   "cell_type": "markdown",
   "id": "bcdd62c3",
   "metadata": {},
   "source": [
    "**Load the required libraries and data**"
   ]
  },
  {
   "cell_type": "code",
   "execution_count": 1,
   "id": "d062e478",
   "metadata": {},
   "outputs": [],
   "source": [
    "# Load the required libraries \n",
    "import pandas as pd\n",
    "import numpy as np \n",
    "from matplotlib import pyplot as plt\n",
    "import seaborn as sns \n",
    "from sklearn.cluster import KMeans\n",
    "import ast \n",
    "import warnings \n",
    "\n",
    "warnings.filterwarnings(\"ignore\")"
   ]
  },
  {
   "cell_type": "code",
   "execution_count": 2,
   "id": "637145b7",
   "metadata": {},
   "outputs": [],
   "source": [
    "# Load the data files \n",
    "\n",
    "# Information about the promotional offers that are possible to receive, and basic information \n",
    "# about each one including the promotional type, duration of the promotion, reward, and how the promotion \n",
    "# was distributed to customers.\n",
    "portfolio = pd.read_csv(\"data/input/portfolio.csv\")\n",
    "\n",
    "# Dimensional data about each person, including their age, salary, and gender, there is one unique customer \n",
    "# for each record.\n",
    "profile = pd.read_csv(\"data/input/profile.csv\")\n",
    "\n",
    "# Records show the different steps of promotional offers that a customer received. The different values of \n",
    "# receiving a promotion are receiving, viewing, and completing. You also see the different transactions \n",
    "# that a person made in the time since he became a customer. With all records, you see the day that they \n",
    "# interacted with Starbucks and the amount that is worth\n",
    "transcript = pd.read_csv(\"data/input/transcript.csv\")"
   ]
  },
  {
   "cell_type": "markdown",
   "id": "53cae254",
   "metadata": {},
   "source": [
    "# Explanatory Data Analysis \n",
    "## Data Inspection and Wrangling "
   ]
  },
  {
   "cell_type": "markdown",
   "id": "87453135",
   "metadata": {},
   "source": [
    "View the first few records of each of the dataset "
   ]
  },
  {
   "cell_type": "code",
   "execution_count": 3,
   "id": "49980ff9",
   "metadata": {},
   "outputs": [
    {
     "data": {
      "text/html": [
       "<div>\n",
       "<style scoped>\n",
       "    .dataframe tbody tr th:only-of-type {\n",
       "        vertical-align: middle;\n",
       "    }\n",
       "\n",
       "    .dataframe tbody tr th {\n",
       "        vertical-align: top;\n",
       "    }\n",
       "\n",
       "    .dataframe thead th {\n",
       "        text-align: right;\n",
       "    }\n",
       "</style>\n",
       "<table border=\"1\" class=\"dataframe\">\n",
       "  <thead>\n",
       "    <tr style=\"text-align: right;\">\n",
       "      <th></th>\n",
       "      <th>Unnamed: 0</th>\n",
       "      <th>reward</th>\n",
       "      <th>channels</th>\n",
       "      <th>difficulty</th>\n",
       "      <th>duration</th>\n",
       "      <th>offer_type</th>\n",
       "      <th>id</th>\n",
       "    </tr>\n",
       "  </thead>\n",
       "  <tbody>\n",
       "    <tr>\n",
       "      <th>0</th>\n",
       "      <td>0</td>\n",
       "      <td>10</td>\n",
       "      <td>['email', 'mobile', 'social']</td>\n",
       "      <td>10</td>\n",
       "      <td>7</td>\n",
       "      <td>bogo</td>\n",
       "      <td>ae264e3637204a6fb9bb56bc8210ddfd</td>\n",
       "    </tr>\n",
       "    <tr>\n",
       "      <th>1</th>\n",
       "      <td>1</td>\n",
       "      <td>10</td>\n",
       "      <td>['web', 'email', 'mobile', 'social']</td>\n",
       "      <td>10</td>\n",
       "      <td>5</td>\n",
       "      <td>bogo</td>\n",
       "      <td>4d5c57ea9a6940dd891ad53e9dbe8da0</td>\n",
       "    </tr>\n",
       "    <tr>\n",
       "      <th>2</th>\n",
       "      <td>2</td>\n",
       "      <td>0</td>\n",
       "      <td>['web', 'email', 'mobile']</td>\n",
       "      <td>0</td>\n",
       "      <td>4</td>\n",
       "      <td>informational</td>\n",
       "      <td>3f207df678b143eea3cee63160fa8bed</td>\n",
       "    </tr>\n",
       "    <tr>\n",
       "      <th>3</th>\n",
       "      <td>3</td>\n",
       "      <td>5</td>\n",
       "      <td>['web', 'email', 'mobile']</td>\n",
       "      <td>5</td>\n",
       "      <td>7</td>\n",
       "      <td>bogo</td>\n",
       "      <td>9b98b8c7a33c4b65b9aebfe6a799e6d9</td>\n",
       "    </tr>\n",
       "    <tr>\n",
       "      <th>4</th>\n",
       "      <td>4</td>\n",
       "      <td>5</td>\n",
       "      <td>['web', 'email']</td>\n",
       "      <td>20</td>\n",
       "      <td>10</td>\n",
       "      <td>discount</td>\n",
       "      <td>0b1e1539f2cc45b7b9fa7c272da2e1d7</td>\n",
       "    </tr>\n",
       "  </tbody>\n",
       "</table>\n",
       "</div>"
      ],
      "text/plain": [
       "   Unnamed: 0  reward                              channels  difficulty   \n",
       "0           0      10         ['email', 'mobile', 'social']          10  \\\n",
       "1           1      10  ['web', 'email', 'mobile', 'social']          10   \n",
       "2           2       0            ['web', 'email', 'mobile']           0   \n",
       "3           3       5            ['web', 'email', 'mobile']           5   \n",
       "4           4       5                      ['web', 'email']          20   \n",
       "\n",
       "   duration     offer_type                                id  \n",
       "0         7           bogo  ae264e3637204a6fb9bb56bc8210ddfd  \n",
       "1         5           bogo  4d5c57ea9a6940dd891ad53e9dbe8da0  \n",
       "2         4  informational  3f207df678b143eea3cee63160fa8bed  \n",
       "3         7           bogo  9b98b8c7a33c4b65b9aebfe6a799e6d9  \n",
       "4        10       discount  0b1e1539f2cc45b7b9fa7c272da2e1d7  "
      ]
     },
     "execution_count": 3,
     "metadata": {},
     "output_type": "execute_result"
    }
   ],
   "source": [
    "portfolio.head()"
   ]
  },
  {
   "cell_type": "code",
   "execution_count": 4,
   "id": "7f2a81ee",
   "metadata": {},
   "outputs": [
    {
     "data": {
      "text/html": [
       "<div>\n",
       "<style scoped>\n",
       "    .dataframe tbody tr th:only-of-type {\n",
       "        vertical-align: middle;\n",
       "    }\n",
       "\n",
       "    .dataframe tbody tr th {\n",
       "        vertical-align: top;\n",
       "    }\n",
       "\n",
       "    .dataframe thead th {\n",
       "        text-align: right;\n",
       "    }\n",
       "</style>\n",
       "<table border=\"1\" class=\"dataframe\">\n",
       "  <thead>\n",
       "    <tr style=\"text-align: right;\">\n",
       "      <th></th>\n",
       "      <th>Unnamed: 0</th>\n",
       "      <th>gender</th>\n",
       "      <th>age</th>\n",
       "      <th>id</th>\n",
       "      <th>became_member_on</th>\n",
       "      <th>income</th>\n",
       "    </tr>\n",
       "  </thead>\n",
       "  <tbody>\n",
       "    <tr>\n",
       "      <th>0</th>\n",
       "      <td>0</td>\n",
       "      <td>NaN</td>\n",
       "      <td>118</td>\n",
       "      <td>68be06ca386d4c31939f3a4f0e3dd783</td>\n",
       "      <td>20170212</td>\n",
       "      <td>NaN</td>\n",
       "    </tr>\n",
       "    <tr>\n",
       "      <th>1</th>\n",
       "      <td>1</td>\n",
       "      <td>F</td>\n",
       "      <td>55</td>\n",
       "      <td>0610b486422d4921ae7d2bf64640c50b</td>\n",
       "      <td>20170715</td>\n",
       "      <td>112000.0</td>\n",
       "    </tr>\n",
       "    <tr>\n",
       "      <th>2</th>\n",
       "      <td>2</td>\n",
       "      <td>NaN</td>\n",
       "      <td>118</td>\n",
       "      <td>38fe809add3b4fcf9315a9694bb96ff5</td>\n",
       "      <td>20180712</td>\n",
       "      <td>NaN</td>\n",
       "    </tr>\n",
       "    <tr>\n",
       "      <th>3</th>\n",
       "      <td>3</td>\n",
       "      <td>F</td>\n",
       "      <td>75</td>\n",
       "      <td>78afa995795e4d85b5d9ceeca43f5fef</td>\n",
       "      <td>20170509</td>\n",
       "      <td>100000.0</td>\n",
       "    </tr>\n",
       "    <tr>\n",
       "      <th>4</th>\n",
       "      <td>4</td>\n",
       "      <td>NaN</td>\n",
       "      <td>118</td>\n",
       "      <td>a03223e636434f42ac4c3df47e8bac43</td>\n",
       "      <td>20170804</td>\n",
       "      <td>NaN</td>\n",
       "    </tr>\n",
       "  </tbody>\n",
       "</table>\n",
       "</div>"
      ],
      "text/plain": [
       "   Unnamed: 0 gender  age                                id  became_member_on   \n",
       "0           0    NaN  118  68be06ca386d4c31939f3a4f0e3dd783          20170212  \\\n",
       "1           1      F   55  0610b486422d4921ae7d2bf64640c50b          20170715   \n",
       "2           2    NaN  118  38fe809add3b4fcf9315a9694bb96ff5          20180712   \n",
       "3           3      F   75  78afa995795e4d85b5d9ceeca43f5fef          20170509   \n",
       "4           4    NaN  118  a03223e636434f42ac4c3df47e8bac43          20170804   \n",
       "\n",
       "     income  \n",
       "0       NaN  \n",
       "1  112000.0  \n",
       "2       NaN  \n",
       "3  100000.0  \n",
       "4       NaN  "
      ]
     },
     "execution_count": 4,
     "metadata": {},
     "output_type": "execute_result"
    }
   ],
   "source": [
    "profile.head()"
   ]
  },
  {
   "cell_type": "code",
   "execution_count": 5,
   "id": "ed6acfc3",
   "metadata": {},
   "outputs": [
    {
     "data": {
      "text/html": [
       "<div>\n",
       "<style scoped>\n",
       "    .dataframe tbody tr th:only-of-type {\n",
       "        vertical-align: middle;\n",
       "    }\n",
       "\n",
       "    .dataframe tbody tr th {\n",
       "        vertical-align: top;\n",
       "    }\n",
       "\n",
       "    .dataframe thead th {\n",
       "        text-align: right;\n",
       "    }\n",
       "</style>\n",
       "<table border=\"1\" class=\"dataframe\">\n",
       "  <thead>\n",
       "    <tr style=\"text-align: right;\">\n",
       "      <th></th>\n",
       "      <th>Unnamed: 0</th>\n",
       "      <th>person</th>\n",
       "      <th>event</th>\n",
       "      <th>value</th>\n",
       "      <th>time</th>\n",
       "    </tr>\n",
       "  </thead>\n",
       "  <tbody>\n",
       "    <tr>\n",
       "      <th>0</th>\n",
       "      <td>0</td>\n",
       "      <td>78afa995795e4d85b5d9ceeca43f5fef</td>\n",
       "      <td>offer received</td>\n",
       "      <td>{'offer id': '9b98b8c7a33c4b65b9aebfe6a799e6d9'}</td>\n",
       "      <td>0</td>\n",
       "    </tr>\n",
       "    <tr>\n",
       "      <th>1</th>\n",
       "      <td>1</td>\n",
       "      <td>a03223e636434f42ac4c3df47e8bac43</td>\n",
       "      <td>offer received</td>\n",
       "      <td>{'offer id': '0b1e1539f2cc45b7b9fa7c272da2e1d7'}</td>\n",
       "      <td>0</td>\n",
       "    </tr>\n",
       "    <tr>\n",
       "      <th>2</th>\n",
       "      <td>2</td>\n",
       "      <td>e2127556f4f64592b11af22de27a7932</td>\n",
       "      <td>offer received</td>\n",
       "      <td>{'offer id': '2906b810c7d4411798c6938adc9daaa5'}</td>\n",
       "      <td>0</td>\n",
       "    </tr>\n",
       "    <tr>\n",
       "      <th>3</th>\n",
       "      <td>3</td>\n",
       "      <td>8ec6ce2a7e7949b1bf142def7d0e0586</td>\n",
       "      <td>offer received</td>\n",
       "      <td>{'offer id': 'fafdcd668e3743c1bb461111dcafc2a4'}</td>\n",
       "      <td>0</td>\n",
       "    </tr>\n",
       "    <tr>\n",
       "      <th>4</th>\n",
       "      <td>4</td>\n",
       "      <td>68617ca6246f4fbc85e91a2a49552598</td>\n",
       "      <td>offer received</td>\n",
       "      <td>{'offer id': '4d5c57ea9a6940dd891ad53e9dbe8da0'}</td>\n",
       "      <td>0</td>\n",
       "    </tr>\n",
       "  </tbody>\n",
       "</table>\n",
       "</div>"
      ],
      "text/plain": [
       "   Unnamed: 0                            person           event   \n",
       "0           0  78afa995795e4d85b5d9ceeca43f5fef  offer received  \\\n",
       "1           1  a03223e636434f42ac4c3df47e8bac43  offer received   \n",
       "2           2  e2127556f4f64592b11af22de27a7932  offer received   \n",
       "3           3  8ec6ce2a7e7949b1bf142def7d0e0586  offer received   \n",
       "4           4  68617ca6246f4fbc85e91a2a49552598  offer received   \n",
       "\n",
       "                                              value  time  \n",
       "0  {'offer id': '9b98b8c7a33c4b65b9aebfe6a799e6d9'}     0  \n",
       "1  {'offer id': '0b1e1539f2cc45b7b9fa7c272da2e1d7'}     0  \n",
       "2  {'offer id': '2906b810c7d4411798c6938adc9daaa5'}     0  \n",
       "3  {'offer id': 'fafdcd668e3743c1bb461111dcafc2a4'}     0  \n",
       "4  {'offer id': '4d5c57ea9a6940dd891ad53e9dbe8da0'}     0  "
      ]
     },
     "execution_count": 5,
     "metadata": {},
     "output_type": "execute_result"
    }
   ],
   "source": [
    "transcript.head()"
   ]
  },
  {
   "cell_type": "markdown",
   "id": "2255e598",
   "metadata": {},
   "source": [
    "**Drop unnecessary columns**"
   ]
  },
  {
   "cell_type": "code",
   "execution_count": 6,
   "id": "a765b636",
   "metadata": {},
   "outputs": [
    {
     "data": {
      "text/html": [
       "<div>\n",
       "<style scoped>\n",
       "    .dataframe tbody tr th:only-of-type {\n",
       "        vertical-align: middle;\n",
       "    }\n",
       "\n",
       "    .dataframe tbody tr th {\n",
       "        vertical-align: top;\n",
       "    }\n",
       "\n",
       "    .dataframe thead th {\n",
       "        text-align: right;\n",
       "    }\n",
       "</style>\n",
       "<table border=\"1\" class=\"dataframe\">\n",
       "  <thead>\n",
       "    <tr style=\"text-align: right;\">\n",
       "      <th></th>\n",
       "      <th>gender</th>\n",
       "      <th>age</th>\n",
       "      <th>id</th>\n",
       "      <th>became_member_on</th>\n",
       "      <th>income</th>\n",
       "    </tr>\n",
       "  </thead>\n",
       "  <tbody>\n",
       "    <tr>\n",
       "      <th>0</th>\n",
       "      <td>NaN</td>\n",
       "      <td>118</td>\n",
       "      <td>68be06ca386d4c31939f3a4f0e3dd783</td>\n",
       "      <td>20170212</td>\n",
       "      <td>NaN</td>\n",
       "    </tr>\n",
       "    <tr>\n",
       "      <th>1</th>\n",
       "      <td>F</td>\n",
       "      <td>55</td>\n",
       "      <td>0610b486422d4921ae7d2bf64640c50b</td>\n",
       "      <td>20170715</td>\n",
       "      <td>112000.0</td>\n",
       "    </tr>\n",
       "    <tr>\n",
       "      <th>2</th>\n",
       "      <td>NaN</td>\n",
       "      <td>118</td>\n",
       "      <td>38fe809add3b4fcf9315a9694bb96ff5</td>\n",
       "      <td>20180712</td>\n",
       "      <td>NaN</td>\n",
       "    </tr>\n",
       "    <tr>\n",
       "      <th>3</th>\n",
       "      <td>F</td>\n",
       "      <td>75</td>\n",
       "      <td>78afa995795e4d85b5d9ceeca43f5fef</td>\n",
       "      <td>20170509</td>\n",
       "      <td>100000.0</td>\n",
       "    </tr>\n",
       "    <tr>\n",
       "      <th>4</th>\n",
       "      <td>NaN</td>\n",
       "      <td>118</td>\n",
       "      <td>a03223e636434f42ac4c3df47e8bac43</td>\n",
       "      <td>20170804</td>\n",
       "      <td>NaN</td>\n",
       "    </tr>\n",
       "  </tbody>\n",
       "</table>\n",
       "</div>"
      ],
      "text/plain": [
       "  gender  age                                id  became_member_on    income\n",
       "0    NaN  118  68be06ca386d4c31939f3a4f0e3dd783          20170212       NaN\n",
       "1      F   55  0610b486422d4921ae7d2bf64640c50b          20170715  112000.0\n",
       "2    NaN  118  38fe809add3b4fcf9315a9694bb96ff5          20180712       NaN\n",
       "3      F   75  78afa995795e4d85b5d9ceeca43f5fef          20170509  100000.0\n",
       "4    NaN  118  a03223e636434f42ac4c3df47e8bac43          20170804       NaN"
      ]
     },
     "execution_count": 6,
     "metadata": {},
     "output_type": "execute_result"
    }
   ],
   "source": [
    "# store the datasets to a list \n",
    "data  = [portfolio, profile, transcript]\n",
    "\n",
    "for dataset in data:\n",
    "    dataset.drop(\"Unnamed: 0\", axis=1, inplace=True)\n",
    "    \n",
    "# confirm the operation \n",
    "profile.head()"
   ]
  },
  {
   "cell_type": "markdown",
   "id": "ef29d0cb",
   "metadata": {},
   "source": [
    "How are the dataset structured? Lets view its info "
   ]
  },
  {
   "cell_type": "code",
   "execution_count": 7,
   "id": "0cbc4b5f",
   "metadata": {},
   "outputs": [
    {
     "name": "stdout",
     "output_type": "stream",
     "text": [
      "<class 'pandas.core.frame.DataFrame'>\n",
      "RangeIndex: 10 entries, 0 to 9\n",
      "Data columns (total 6 columns):\n",
      " #   Column      Non-Null Count  Dtype \n",
      "---  ------      --------------  ----- \n",
      " 0   reward      10 non-null     int64 \n",
      " 1   channels    10 non-null     object\n",
      " 2   difficulty  10 non-null     int64 \n",
      " 3   duration    10 non-null     int64 \n",
      " 4   offer_type  10 non-null     object\n",
      " 5   id          10 non-null     object\n",
      "dtypes: int64(3), object(3)\n",
      "memory usage: 608.0+ bytes\n"
     ]
    }
   ],
   "source": [
    "portfolio.info()"
   ]
  },
  {
   "cell_type": "markdown",
   "id": "cade06d4",
   "metadata": {},
   "source": [
    "The portfolio dataset is complete with no null values, There are 10 records and 6 features. The dataset contains both numeric and non numeric features"
   ]
  },
  {
   "cell_type": "code",
   "execution_count": 8,
   "id": "cccd3d6b",
   "metadata": {},
   "outputs": [
    {
     "name": "stdout",
     "output_type": "stream",
     "text": [
      "<class 'pandas.core.frame.DataFrame'>\n",
      "RangeIndex: 17000 entries, 0 to 16999\n",
      "Data columns (total 5 columns):\n",
      " #   Column            Non-Null Count  Dtype  \n",
      "---  ------            --------------  -----  \n",
      " 0   gender            14825 non-null  object \n",
      " 1   age               17000 non-null  int64  \n",
      " 2   id                17000 non-null  object \n",
      " 3   became_member_on  17000 non-null  int64  \n",
      " 4   income            14825 non-null  float64\n",
      "dtypes: float64(1), int64(2), object(2)\n",
      "memory usage: 664.2+ KB\n"
     ]
    }
   ],
   "source": [
    "profile.info()"
   ]
  },
  {
   "cell_type": "markdown",
   "id": "ec4f83a8",
   "metadata": {},
   "source": [
    "The profile dataset contains null values, infact there are more than 4000 null values. There are 17000 records and a total of 5 features. Most features are numeric  "
   ]
  },
  {
   "cell_type": "code",
   "execution_count": 9,
   "id": "96fe364f",
   "metadata": {},
   "outputs": [
    {
     "name": "stdout",
     "output_type": "stream",
     "text": [
      "<class 'pandas.core.frame.DataFrame'>\n",
      "RangeIndex: 306534 entries, 0 to 306533\n",
      "Data columns (total 4 columns):\n",
      " #   Column  Non-Null Count   Dtype \n",
      "---  ------  --------------   ----- \n",
      " 0   person  306534 non-null  object\n",
      " 1   event   306534 non-null  object\n",
      " 2   value   306534 non-null  object\n",
      " 3   time    306534 non-null  int64 \n",
      "dtypes: int64(1), object(3)\n",
      "memory usage: 9.4+ MB\n"
     ]
    }
   ],
   "source": [
    "transcript.info()"
   ]
  },
  {
   "cell_type": "markdown",
   "id": "ef3f1a3d",
   "metadata": {},
   "source": [
    "Transcript dataset is the largest dataset so far. Its complete with no null values. The dataset contains more than 30000 records and has only 4 features. Most of the features are non numeric while only one feature is numeric. "
   ]
  },
  {
   "cell_type": "markdown",
   "id": "a129fdf7",
   "metadata": {},
   "source": [
    "### Wrangling and Cleaning \n",
    "#### Portfolio dataset "
   ]
  },
  {
   "cell_type": "code",
   "execution_count": 10,
   "id": "f0138c55",
   "metadata": {},
   "outputs": [
    {
     "data": {
      "text/html": [
       "<div>\n",
       "<style scoped>\n",
       "    .dataframe tbody tr th:only-of-type {\n",
       "        vertical-align: middle;\n",
       "    }\n",
       "\n",
       "    .dataframe tbody tr th {\n",
       "        vertical-align: top;\n",
       "    }\n",
       "\n",
       "    .dataframe thead th {\n",
       "        text-align: right;\n",
       "    }\n",
       "</style>\n",
       "<table border=\"1\" class=\"dataframe\">\n",
       "  <thead>\n",
       "    <tr style=\"text-align: right;\">\n",
       "      <th></th>\n",
       "      <th>reward</th>\n",
       "      <th>channels</th>\n",
       "      <th>difficulty</th>\n",
       "      <th>duration</th>\n",
       "      <th>offer_type</th>\n",
       "      <th>id</th>\n",
       "    </tr>\n",
       "  </thead>\n",
       "  <tbody>\n",
       "    <tr>\n",
       "      <th>0</th>\n",
       "      <td>10</td>\n",
       "      <td>['email', 'mobile', 'social']</td>\n",
       "      <td>10</td>\n",
       "      <td>7</td>\n",
       "      <td>bogo</td>\n",
       "      <td>ae264e3637204a6fb9bb56bc8210ddfd</td>\n",
       "    </tr>\n",
       "    <tr>\n",
       "      <th>1</th>\n",
       "      <td>10</td>\n",
       "      <td>['web', 'email', 'mobile', 'social']</td>\n",
       "      <td>10</td>\n",
       "      <td>5</td>\n",
       "      <td>bogo</td>\n",
       "      <td>4d5c57ea9a6940dd891ad53e9dbe8da0</td>\n",
       "    </tr>\n",
       "    <tr>\n",
       "      <th>2</th>\n",
       "      <td>0</td>\n",
       "      <td>['web', 'email', 'mobile']</td>\n",
       "      <td>0</td>\n",
       "      <td>4</td>\n",
       "      <td>informational</td>\n",
       "      <td>3f207df678b143eea3cee63160fa8bed</td>\n",
       "    </tr>\n",
       "    <tr>\n",
       "      <th>3</th>\n",
       "      <td>5</td>\n",
       "      <td>['web', 'email', 'mobile']</td>\n",
       "      <td>5</td>\n",
       "      <td>7</td>\n",
       "      <td>bogo</td>\n",
       "      <td>9b98b8c7a33c4b65b9aebfe6a799e6d9</td>\n",
       "    </tr>\n",
       "    <tr>\n",
       "      <th>4</th>\n",
       "      <td>5</td>\n",
       "      <td>['web', 'email']</td>\n",
       "      <td>20</td>\n",
       "      <td>10</td>\n",
       "      <td>discount</td>\n",
       "      <td>0b1e1539f2cc45b7b9fa7c272da2e1d7</td>\n",
       "    </tr>\n",
       "    <tr>\n",
       "      <th>5</th>\n",
       "      <td>3</td>\n",
       "      <td>['web', 'email', 'mobile', 'social']</td>\n",
       "      <td>7</td>\n",
       "      <td>7</td>\n",
       "      <td>discount</td>\n",
       "      <td>2298d6c36e964ae4a3e7e9706d1fb8c2</td>\n",
       "    </tr>\n",
       "    <tr>\n",
       "      <th>6</th>\n",
       "      <td>2</td>\n",
       "      <td>['web', 'email', 'mobile', 'social']</td>\n",
       "      <td>10</td>\n",
       "      <td>10</td>\n",
       "      <td>discount</td>\n",
       "      <td>fafdcd668e3743c1bb461111dcafc2a4</td>\n",
       "    </tr>\n",
       "    <tr>\n",
       "      <th>7</th>\n",
       "      <td>0</td>\n",
       "      <td>['email', 'mobile', 'social']</td>\n",
       "      <td>0</td>\n",
       "      <td>3</td>\n",
       "      <td>informational</td>\n",
       "      <td>5a8bc65990b245e5a138643cd4eb9837</td>\n",
       "    </tr>\n",
       "    <tr>\n",
       "      <th>8</th>\n",
       "      <td>5</td>\n",
       "      <td>['web', 'email', 'mobile', 'social']</td>\n",
       "      <td>5</td>\n",
       "      <td>5</td>\n",
       "      <td>bogo</td>\n",
       "      <td>f19421c1d4aa40978ebb69ca19b0e20d</td>\n",
       "    </tr>\n",
       "    <tr>\n",
       "      <th>9</th>\n",
       "      <td>2</td>\n",
       "      <td>['web', 'email', 'mobile']</td>\n",
       "      <td>10</td>\n",
       "      <td>7</td>\n",
       "      <td>discount</td>\n",
       "      <td>2906b810c7d4411798c6938adc9daaa5</td>\n",
       "    </tr>\n",
       "  </tbody>\n",
       "</table>\n",
       "</div>"
      ],
      "text/plain": [
       "   reward                              channels  difficulty  duration   \n",
       "0      10         ['email', 'mobile', 'social']          10         7  \\\n",
       "1      10  ['web', 'email', 'mobile', 'social']          10         5   \n",
       "2       0            ['web', 'email', 'mobile']           0         4   \n",
       "3       5            ['web', 'email', 'mobile']           5         7   \n",
       "4       5                      ['web', 'email']          20        10   \n",
       "5       3  ['web', 'email', 'mobile', 'social']           7         7   \n",
       "6       2  ['web', 'email', 'mobile', 'social']          10        10   \n",
       "7       0         ['email', 'mobile', 'social']           0         3   \n",
       "8       5  ['web', 'email', 'mobile', 'social']           5         5   \n",
       "9       2            ['web', 'email', 'mobile']          10         7   \n",
       "\n",
       "      offer_type                                id  \n",
       "0           bogo  ae264e3637204a6fb9bb56bc8210ddfd  \n",
       "1           bogo  4d5c57ea9a6940dd891ad53e9dbe8da0  \n",
       "2  informational  3f207df678b143eea3cee63160fa8bed  \n",
       "3           bogo  9b98b8c7a33c4b65b9aebfe6a799e6d9  \n",
       "4       discount  0b1e1539f2cc45b7b9fa7c272da2e1d7  \n",
       "5       discount  2298d6c36e964ae4a3e7e9706d1fb8c2  \n",
       "6       discount  fafdcd668e3743c1bb461111dcafc2a4  \n",
       "7  informational  5a8bc65990b245e5a138643cd4eb9837  \n",
       "8           bogo  f19421c1d4aa40978ebb69ca19b0e20d  \n",
       "9       discount  2906b810c7d4411798c6938adc9daaa5  "
      ]
     },
     "execution_count": 10,
     "metadata": {},
     "output_type": "execute_result"
    }
   ],
   "source": [
    "portfolio"
   ]
  },
  {
   "cell_type": "code",
   "execution_count": 11,
   "id": "28d03b50",
   "metadata": {},
   "outputs": [
    {
     "data": {
      "text/html": [
       "<div>\n",
       "<style scoped>\n",
       "    .dataframe tbody tr th:only-of-type {\n",
       "        vertical-align: middle;\n",
       "    }\n",
       "\n",
       "    .dataframe tbody tr th {\n",
       "        vertical-align: top;\n",
       "    }\n",
       "\n",
       "    .dataframe thead th {\n",
       "        text-align: right;\n",
       "    }\n",
       "</style>\n",
       "<table border=\"1\" class=\"dataframe\">\n",
       "  <thead>\n",
       "    <tr style=\"text-align: right;\">\n",
       "      <th></th>\n",
       "      <th>reward</th>\n",
       "      <th>difficulty</th>\n",
       "      <th>duration</th>\n",
       "      <th>offer_type</th>\n",
       "      <th>id</th>\n",
       "      <th>email</th>\n",
       "      <th>mobile</th>\n",
       "      <th>social</th>\n",
       "      <th>web</th>\n",
       "    </tr>\n",
       "  </thead>\n",
       "  <tbody>\n",
       "    <tr>\n",
       "      <th>0</th>\n",
       "      <td>10</td>\n",
       "      <td>10</td>\n",
       "      <td>7</td>\n",
       "      <td>bogo</td>\n",
       "      <td>ae264e3637204a6fb9bb56bc8210ddfd</td>\n",
       "      <td>1</td>\n",
       "      <td>1</td>\n",
       "      <td>1</td>\n",
       "      <td>0</td>\n",
       "    </tr>\n",
       "    <tr>\n",
       "      <th>1</th>\n",
       "      <td>10</td>\n",
       "      <td>10</td>\n",
       "      <td>5</td>\n",
       "      <td>bogo</td>\n",
       "      <td>4d5c57ea9a6940dd891ad53e9dbe8da0</td>\n",
       "      <td>1</td>\n",
       "      <td>1</td>\n",
       "      <td>1</td>\n",
       "      <td>1</td>\n",
       "    </tr>\n",
       "    <tr>\n",
       "      <th>2</th>\n",
       "      <td>0</td>\n",
       "      <td>0</td>\n",
       "      <td>4</td>\n",
       "      <td>informational</td>\n",
       "      <td>3f207df678b143eea3cee63160fa8bed</td>\n",
       "      <td>1</td>\n",
       "      <td>1</td>\n",
       "      <td>0</td>\n",
       "      <td>1</td>\n",
       "    </tr>\n",
       "    <tr>\n",
       "      <th>3</th>\n",
       "      <td>5</td>\n",
       "      <td>5</td>\n",
       "      <td>7</td>\n",
       "      <td>bogo</td>\n",
       "      <td>9b98b8c7a33c4b65b9aebfe6a799e6d9</td>\n",
       "      <td>1</td>\n",
       "      <td>1</td>\n",
       "      <td>0</td>\n",
       "      <td>1</td>\n",
       "    </tr>\n",
       "    <tr>\n",
       "      <th>4</th>\n",
       "      <td>5</td>\n",
       "      <td>20</td>\n",
       "      <td>10</td>\n",
       "      <td>discount</td>\n",
       "      <td>0b1e1539f2cc45b7b9fa7c272da2e1d7</td>\n",
       "      <td>1</td>\n",
       "      <td>0</td>\n",
       "      <td>0</td>\n",
       "      <td>1</td>\n",
       "    </tr>\n",
       "    <tr>\n",
       "      <th>5</th>\n",
       "      <td>3</td>\n",
       "      <td>7</td>\n",
       "      <td>7</td>\n",
       "      <td>discount</td>\n",
       "      <td>2298d6c36e964ae4a3e7e9706d1fb8c2</td>\n",
       "      <td>1</td>\n",
       "      <td>1</td>\n",
       "      <td>1</td>\n",
       "      <td>1</td>\n",
       "    </tr>\n",
       "    <tr>\n",
       "      <th>6</th>\n",
       "      <td>2</td>\n",
       "      <td>10</td>\n",
       "      <td>10</td>\n",
       "      <td>discount</td>\n",
       "      <td>fafdcd668e3743c1bb461111dcafc2a4</td>\n",
       "      <td>1</td>\n",
       "      <td>1</td>\n",
       "      <td>1</td>\n",
       "      <td>1</td>\n",
       "    </tr>\n",
       "    <tr>\n",
       "      <th>7</th>\n",
       "      <td>0</td>\n",
       "      <td>0</td>\n",
       "      <td>3</td>\n",
       "      <td>informational</td>\n",
       "      <td>5a8bc65990b245e5a138643cd4eb9837</td>\n",
       "      <td>1</td>\n",
       "      <td>1</td>\n",
       "      <td>1</td>\n",
       "      <td>0</td>\n",
       "    </tr>\n",
       "    <tr>\n",
       "      <th>8</th>\n",
       "      <td>5</td>\n",
       "      <td>5</td>\n",
       "      <td>5</td>\n",
       "      <td>bogo</td>\n",
       "      <td>f19421c1d4aa40978ebb69ca19b0e20d</td>\n",
       "      <td>1</td>\n",
       "      <td>1</td>\n",
       "      <td>1</td>\n",
       "      <td>1</td>\n",
       "    </tr>\n",
       "    <tr>\n",
       "      <th>9</th>\n",
       "      <td>2</td>\n",
       "      <td>10</td>\n",
       "      <td>7</td>\n",
       "      <td>discount</td>\n",
       "      <td>2906b810c7d4411798c6938adc9daaa5</td>\n",
       "      <td>1</td>\n",
       "      <td>1</td>\n",
       "      <td>0</td>\n",
       "      <td>1</td>\n",
       "    </tr>\n",
       "  </tbody>\n",
       "</table>\n",
       "</div>"
      ],
      "text/plain": [
       "   reward  difficulty  duration     offer_type   \n",
       "0      10          10         7           bogo  \\\n",
       "1      10          10         5           bogo   \n",
       "2       0           0         4  informational   \n",
       "3       5           5         7           bogo   \n",
       "4       5          20        10       discount   \n",
       "5       3           7         7       discount   \n",
       "6       2          10        10       discount   \n",
       "7       0           0         3  informational   \n",
       "8       5           5         5           bogo   \n",
       "9       2          10         7       discount   \n",
       "\n",
       "                                 id  email  mobile  social  web  \n",
       "0  ae264e3637204a6fb9bb56bc8210ddfd      1       1       1    0  \n",
       "1  4d5c57ea9a6940dd891ad53e9dbe8da0      1       1       1    1  \n",
       "2  3f207df678b143eea3cee63160fa8bed      1       1       0    1  \n",
       "3  9b98b8c7a33c4b65b9aebfe6a799e6d9      1       1       0    1  \n",
       "4  0b1e1539f2cc45b7b9fa7c272da2e1d7      1       0       0    1  \n",
       "5  2298d6c36e964ae4a3e7e9706d1fb8c2      1       1       1    1  \n",
       "6  fafdcd668e3743c1bb461111dcafc2a4      1       1       1    1  \n",
       "7  5a8bc65990b245e5a138643cd4eb9837      1       1       1    0  \n",
       "8  f19421c1d4aa40978ebb69ca19b0e20d      1       1       1    1  \n",
       "9  2906b810c7d4411798c6938adc9daaa5      1       1       0    1  "
      ]
     },
     "execution_count": 11,
     "metadata": {},
     "output_type": "execute_result"
    }
   ],
   "source": [
    "channels = [] #stores all the channels for each individual portfolio\n",
    "\n",
    "#Merge the channels into a single list\n",
    "for channel in portfolio[\"channels\"]:\n",
    "    channel_list = ast.literal_eval(channel)\n",
    "    \n",
    "    for ch in channel_list:\n",
    "        channels.append(ch)\n",
    "    \n",
    "# Find the unique channels \n",
    "unique_channels = list(np.unique(np.array(channels)))\n",
    "\n",
    "# Find if channels exists in each individual portfolio \n",
    "for channel in unique_channels:\n",
    "    globals()[channel] = [1 if channel in ch else 0 for ch in portfolio[\"channels\"]]\n",
    "    # Create a new column for the channel\n",
    "    portfolio[channel] = globals()[channel]\n",
    "    \n",
    "# Delete the \"channels\" column \n",
    "portfolio.drop(\"channels\", axis=1, inplace=True)\n",
    "\n",
    "# Confirm the operation \n",
    "portfolio"
   ]
  },
  {
   "cell_type": "markdown",
   "id": "b4fa2ca5",
   "metadata": {},
   "source": [
    "#### Profile"
   ]
  },
  {
   "cell_type": "code",
   "execution_count": 12,
   "id": "7238be4b",
   "metadata": {},
   "outputs": [
    {
     "data": {
      "text/html": [
       "<div>\n",
       "<style scoped>\n",
       "    .dataframe tbody tr th:only-of-type {\n",
       "        vertical-align: middle;\n",
       "    }\n",
       "\n",
       "    .dataframe tbody tr th {\n",
       "        vertical-align: top;\n",
       "    }\n",
       "\n",
       "    .dataframe thead th {\n",
       "        text-align: right;\n",
       "    }\n",
       "</style>\n",
       "<table border=\"1\" class=\"dataframe\">\n",
       "  <thead>\n",
       "    <tr style=\"text-align: right;\">\n",
       "      <th></th>\n",
       "      <th>gender</th>\n",
       "      <th>age</th>\n",
       "      <th>id</th>\n",
       "      <th>became_member_on</th>\n",
       "      <th>income</th>\n",
       "    </tr>\n",
       "  </thead>\n",
       "  <tbody>\n",
       "    <tr>\n",
       "      <th>0</th>\n",
       "      <td>NaN</td>\n",
       "      <td>118</td>\n",
       "      <td>68be06ca386d4c31939f3a4f0e3dd783</td>\n",
       "      <td>20170212</td>\n",
       "      <td>NaN</td>\n",
       "    </tr>\n",
       "    <tr>\n",
       "      <th>1</th>\n",
       "      <td>F</td>\n",
       "      <td>55</td>\n",
       "      <td>0610b486422d4921ae7d2bf64640c50b</td>\n",
       "      <td>20170715</td>\n",
       "      <td>112000.0</td>\n",
       "    </tr>\n",
       "    <tr>\n",
       "      <th>2</th>\n",
       "      <td>NaN</td>\n",
       "      <td>118</td>\n",
       "      <td>38fe809add3b4fcf9315a9694bb96ff5</td>\n",
       "      <td>20180712</td>\n",
       "      <td>NaN</td>\n",
       "    </tr>\n",
       "    <tr>\n",
       "      <th>3</th>\n",
       "      <td>F</td>\n",
       "      <td>75</td>\n",
       "      <td>78afa995795e4d85b5d9ceeca43f5fef</td>\n",
       "      <td>20170509</td>\n",
       "      <td>100000.0</td>\n",
       "    </tr>\n",
       "    <tr>\n",
       "      <th>4</th>\n",
       "      <td>NaN</td>\n",
       "      <td>118</td>\n",
       "      <td>a03223e636434f42ac4c3df47e8bac43</td>\n",
       "      <td>20170804</td>\n",
       "      <td>NaN</td>\n",
       "    </tr>\n",
       "  </tbody>\n",
       "</table>\n",
       "</div>"
      ],
      "text/plain": [
       "  gender  age                                id  became_member_on    income\n",
       "0    NaN  118  68be06ca386d4c31939f3a4f0e3dd783          20170212       NaN\n",
       "1      F   55  0610b486422d4921ae7d2bf64640c50b          20170715  112000.0\n",
       "2    NaN  118  38fe809add3b4fcf9315a9694bb96ff5          20180712       NaN\n",
       "3      F   75  78afa995795e4d85b5d9ceeca43f5fef          20170509  100000.0\n",
       "4    NaN  118  a03223e636434f42ac4c3df47e8bac43          20170804       NaN"
      ]
     },
     "execution_count": 12,
     "metadata": {},
     "output_type": "execute_result"
    }
   ],
   "source": [
    "profile.head()"
   ]
  },
  {
   "cell_type": "code",
   "execution_count": 13,
   "id": "19eed613",
   "metadata": {},
   "outputs": [],
   "source": [
    "# Lets find any id in the portfolios listed in the profiles\n",
    "portfolio_ids =  list(portfolio[\"id\"])\n",
    "profile_ids = list(profile[\"id\"])\n",
    "\n",
    "for id_ in portfolio_ids:\n",
    "    if id_ in profile_ids:\n",
    "        print(id_)"
   ]
  },
  {
   "cell_type": "markdown",
   "id": "88851e36",
   "metadata": {},
   "source": [
    "An empty output shows no id from the portfolio was listed in the profile "
   ]
  },
  {
   "cell_type": "markdown",
   "id": "55b5d896",
   "metadata": {},
   "source": [
    "Convert the \"became_member_on\" to datetime datatype"
   ]
  },
  {
   "cell_type": "code",
   "execution_count": 14,
   "id": "1979c2dd",
   "metadata": {},
   "outputs": [
    {
     "data": {
      "text/html": [
       "<div>\n",
       "<style scoped>\n",
       "    .dataframe tbody tr th:only-of-type {\n",
       "        vertical-align: middle;\n",
       "    }\n",
       "\n",
       "    .dataframe tbody tr th {\n",
       "        vertical-align: top;\n",
       "    }\n",
       "\n",
       "    .dataframe thead th {\n",
       "        text-align: right;\n",
       "    }\n",
       "</style>\n",
       "<table border=\"1\" class=\"dataframe\">\n",
       "  <thead>\n",
       "    <tr style=\"text-align: right;\">\n",
       "      <th></th>\n",
       "      <th>gender</th>\n",
       "      <th>age</th>\n",
       "      <th>id</th>\n",
       "      <th>became_member_on</th>\n",
       "      <th>income</th>\n",
       "    </tr>\n",
       "  </thead>\n",
       "  <tbody>\n",
       "    <tr>\n",
       "      <th>0</th>\n",
       "      <td>NaN</td>\n",
       "      <td>118</td>\n",
       "      <td>68be06ca386d4c31939f3a4f0e3dd783</td>\n",
       "      <td>1970-01-01</td>\n",
       "      <td>NaN</td>\n",
       "    </tr>\n",
       "    <tr>\n",
       "      <th>1</th>\n",
       "      <td>F</td>\n",
       "      <td>55</td>\n",
       "      <td>0610b486422d4921ae7d2bf64640c50b</td>\n",
       "      <td>1970-01-01</td>\n",
       "      <td>112000.0</td>\n",
       "    </tr>\n",
       "    <tr>\n",
       "      <th>2</th>\n",
       "      <td>NaN</td>\n",
       "      <td>118</td>\n",
       "      <td>38fe809add3b4fcf9315a9694bb96ff5</td>\n",
       "      <td>1970-01-01</td>\n",
       "      <td>NaN</td>\n",
       "    </tr>\n",
       "    <tr>\n",
       "      <th>3</th>\n",
       "      <td>F</td>\n",
       "      <td>75</td>\n",
       "      <td>78afa995795e4d85b5d9ceeca43f5fef</td>\n",
       "      <td>1970-01-01</td>\n",
       "      <td>100000.0</td>\n",
       "    </tr>\n",
       "    <tr>\n",
       "      <th>4</th>\n",
       "      <td>NaN</td>\n",
       "      <td>118</td>\n",
       "      <td>a03223e636434f42ac4c3df47e8bac43</td>\n",
       "      <td>1970-01-01</td>\n",
       "      <td>NaN</td>\n",
       "    </tr>\n",
       "  </tbody>\n",
       "</table>\n",
       "</div>"
      ],
      "text/plain": [
       "  gender  age                                id became_member_on    income\n",
       "0    NaN  118  68be06ca386d4c31939f3a4f0e3dd783       1970-01-01       NaN\n",
       "1      F   55  0610b486422d4921ae7d2bf64640c50b       1970-01-01  112000.0\n",
       "2    NaN  118  38fe809add3b4fcf9315a9694bb96ff5       1970-01-01       NaN\n",
       "3      F   75  78afa995795e4d85b5d9ceeca43f5fef       1970-01-01  100000.0\n",
       "4    NaN  118  a03223e636434f42ac4c3df47e8bac43       1970-01-01       NaN"
      ]
     },
     "execution_count": 14,
     "metadata": {},
     "output_type": "execute_result"
    }
   ],
   "source": [
    "became_member_on = pd.to_datetime(profile[\"became_member_on\"], errors=\"coerce\")\n",
    "profile[\"became_member_on\"] = [str(date.date()) for date in became_member_on]\n",
    "profile.head()"
   ]
  },
  {
   "cell_type": "markdown",
   "id": "43a1f68f",
   "metadata": {},
   "source": [
    "Lets count the total null values to find the source of null values  "
   ]
  },
  {
   "cell_type": "code",
   "execution_count": 15,
   "id": "595e315a",
   "metadata": {},
   "outputs": [
    {
     "data": {
      "text/plain": [
       "gender              2175\n",
       "age                    0\n",
       "id                     0\n",
       "became_member_on       0\n",
       "income              2175\n",
       "dtype: int64"
      ]
     },
     "execution_count": 15,
     "metadata": {},
     "output_type": "execute_result"
    }
   ],
   "source": [
    "profile.isna().sum()"
   ]
  },
  {
   "cell_type": "markdown",
   "id": "9ecd0c2a",
   "metadata": {},
   "source": [
    "All null values are from gender and income variables. Lets heck the count of null values corresponding in both gender and income variables"
   ]
  },
  {
   "cell_type": "code",
   "execution_count": 16,
   "id": "a750f493",
   "metadata": {},
   "outputs": [
    {
     "data": {
      "text/plain": [
       "2175"
      ]
     },
     "execution_count": 16,
     "metadata": {},
     "output_type": "execute_result"
    }
   ],
   "source": [
    "sum(profile['gender'].isnull() & profile['income'].isnull())"
   ]
  },
  {
   "cell_type": "markdown",
   "id": "042a6d22",
   "metadata": {},
   "source": [
    "Since income and gender are very important variables and both have corressponding null variables therefore there is a need to drop rows containing the null values "
   ]
  },
  {
   "cell_type": "code",
   "execution_count": 17,
   "id": "6db17956",
   "metadata": {},
   "outputs": [
    {
     "data": {
      "text/plain": [
       "0"
      ]
     },
     "execution_count": 17,
     "metadata": {},
     "output_type": "execute_result"
    }
   ],
   "source": [
    "profile.dropna(how = \"any\", inplace=True)\n",
    "# confirm the operation \n",
    "profile.isna().sum().sum()"
   ]
  },
  {
   "cell_type": "code",
   "execution_count": 18,
   "id": "74e1471a",
   "metadata": {},
   "outputs": [
    {
     "data": {
      "text/plain": [
       "(14825, 5)"
      ]
     },
     "execution_count": 18,
     "metadata": {},
     "output_type": "execute_result"
    }
   ],
   "source": [
    "profile.shape"
   ]
  },
  {
   "cell_type": "markdown",
   "id": "d5050d8b",
   "metadata": {},
   "source": [
    "There are almost 15000 profiles left. Are there any duplicate records? Lets find out "
   ]
  },
  {
   "cell_type": "code",
   "execution_count": 19,
   "id": "4b518c25",
   "metadata": {},
   "outputs": [
    {
     "data": {
      "text/plain": [
       "0"
      ]
     },
     "execution_count": 19,
     "metadata": {},
     "output_type": "execute_result"
    }
   ],
   "source": [
    "profile.duplicated().sum()"
   ]
  },
  {
   "cell_type": "markdown",
   "id": "c583d080",
   "metadata": {},
   "source": [
    "There are no duplicated records in the profile dataset. The profile dataset is now clean and ready for further analysis. Lets reindex it and get its final look"
   ]
  },
  {
   "cell_type": "code",
   "execution_count": 20,
   "id": "b58e872e",
   "metadata": {},
   "outputs": [
    {
     "data": {
      "text/html": [
       "<div>\n",
       "<style scoped>\n",
       "    .dataframe tbody tr th:only-of-type {\n",
       "        vertical-align: middle;\n",
       "    }\n",
       "\n",
       "    .dataframe tbody tr th {\n",
       "        vertical-align: top;\n",
       "    }\n",
       "\n",
       "    .dataframe thead th {\n",
       "        text-align: right;\n",
       "    }\n",
       "</style>\n",
       "<table border=\"1\" class=\"dataframe\">\n",
       "  <thead>\n",
       "    <tr style=\"text-align: right;\">\n",
       "      <th></th>\n",
       "      <th>gender</th>\n",
       "      <th>age</th>\n",
       "      <th>id</th>\n",
       "      <th>became_member_on</th>\n",
       "      <th>income</th>\n",
       "    </tr>\n",
       "  </thead>\n",
       "  <tbody>\n",
       "    <tr>\n",
       "      <th>14820</th>\n",
       "      <td>F</td>\n",
       "      <td>45</td>\n",
       "      <td>6d5f3a774f3d4714ab0c092238f3a1d7</td>\n",
       "      <td>1970-01-01</td>\n",
       "      <td>54000.0</td>\n",
       "    </tr>\n",
       "    <tr>\n",
       "      <th>14821</th>\n",
       "      <td>M</td>\n",
       "      <td>61</td>\n",
       "      <td>2cb4f97358b841b9a9773a7aa05a9d77</td>\n",
       "      <td>1970-01-01</td>\n",
       "      <td>72000.0</td>\n",
       "    </tr>\n",
       "    <tr>\n",
       "      <th>14822</th>\n",
       "      <td>M</td>\n",
       "      <td>49</td>\n",
       "      <td>01d26f638c274aa0b965d24cefe3183f</td>\n",
       "      <td>1970-01-01</td>\n",
       "      <td>73000.0</td>\n",
       "    </tr>\n",
       "    <tr>\n",
       "      <th>14823</th>\n",
       "      <td>F</td>\n",
       "      <td>83</td>\n",
       "      <td>9dc1421481194dcd9400aec7c9ae6366</td>\n",
       "      <td>1970-01-01</td>\n",
       "      <td>50000.0</td>\n",
       "    </tr>\n",
       "    <tr>\n",
       "      <th>14824</th>\n",
       "      <td>F</td>\n",
       "      <td>62</td>\n",
       "      <td>e4052622e5ba45a8b96b59aba68cf068</td>\n",
       "      <td>1970-01-01</td>\n",
       "      <td>82000.0</td>\n",
       "    </tr>\n",
       "  </tbody>\n",
       "</table>\n",
       "</div>"
      ],
      "text/plain": [
       "      gender  age                                id became_member_on   income\n",
       "14820      F   45  6d5f3a774f3d4714ab0c092238f3a1d7       1970-01-01  54000.0\n",
       "14821      M   61  2cb4f97358b841b9a9773a7aa05a9d77       1970-01-01  72000.0\n",
       "14822      M   49  01d26f638c274aa0b965d24cefe3183f       1970-01-01  73000.0\n",
       "14823      F   83  9dc1421481194dcd9400aec7c9ae6366       1970-01-01  50000.0\n",
       "14824      F   62  e4052622e5ba45a8b96b59aba68cf068       1970-01-01  82000.0"
      ]
     },
     "execution_count": 20,
     "metadata": {},
     "output_type": "execute_result"
    }
   ],
   "source": [
    "profile.reset_index(drop=True, inplace=True)\n",
    "\n",
    "# Show the last five rows \n",
    "profile.tail()"
   ]
  },
  {
   "cell_type": "markdown",
   "id": "22a8b1f1",
   "metadata": {},
   "source": [
    "Wait! the `became_member_on` seems to be unary(Contains one unique/distinct value - \"1970-01-01\") lets find out and drop it. "
   ]
  },
  {
   "cell_type": "code",
   "execution_count": 21,
   "id": "42c93527",
   "metadata": {},
   "outputs": [
    {
     "data": {
      "text/plain": [
       "1"
      ]
     },
     "execution_count": 21,
     "metadata": {},
     "output_type": "execute_result"
    }
   ],
   "source": [
    "profile[\"became_member_on\"].nunique()"
   ]
  },
  {
   "cell_type": "markdown",
   "id": "5582f65e",
   "metadata": {},
   "source": [
    "The variable contain one unique variable, lets drop it. "
   ]
  },
  {
   "cell_type": "code",
   "execution_count": 22,
   "id": "493766da",
   "metadata": {},
   "outputs": [
    {
     "data": {
      "text/html": [
       "<div>\n",
       "<style scoped>\n",
       "    .dataframe tbody tr th:only-of-type {\n",
       "        vertical-align: middle;\n",
       "    }\n",
       "\n",
       "    .dataframe tbody tr th {\n",
       "        vertical-align: top;\n",
       "    }\n",
       "\n",
       "    .dataframe thead th {\n",
       "        text-align: right;\n",
       "    }\n",
       "</style>\n",
       "<table border=\"1\" class=\"dataframe\">\n",
       "  <thead>\n",
       "    <tr style=\"text-align: right;\">\n",
       "      <th></th>\n",
       "      <th>gender</th>\n",
       "      <th>age</th>\n",
       "      <th>id</th>\n",
       "      <th>income</th>\n",
       "    </tr>\n",
       "  </thead>\n",
       "  <tbody>\n",
       "    <tr>\n",
       "      <th>0</th>\n",
       "      <td>F</td>\n",
       "      <td>55</td>\n",
       "      <td>0610b486422d4921ae7d2bf64640c50b</td>\n",
       "      <td>112000.0</td>\n",
       "    </tr>\n",
       "    <tr>\n",
       "      <th>1</th>\n",
       "      <td>F</td>\n",
       "      <td>75</td>\n",
       "      <td>78afa995795e4d85b5d9ceeca43f5fef</td>\n",
       "      <td>100000.0</td>\n",
       "    </tr>\n",
       "    <tr>\n",
       "      <th>2</th>\n",
       "      <td>M</td>\n",
       "      <td>68</td>\n",
       "      <td>e2127556f4f64592b11af22de27a7932</td>\n",
       "      <td>70000.0</td>\n",
       "    </tr>\n",
       "    <tr>\n",
       "      <th>3</th>\n",
       "      <td>M</td>\n",
       "      <td>65</td>\n",
       "      <td>389bc3fa690240e798340f5a15918d5c</td>\n",
       "      <td>53000.0</td>\n",
       "    </tr>\n",
       "    <tr>\n",
       "      <th>4</th>\n",
       "      <td>M</td>\n",
       "      <td>58</td>\n",
       "      <td>2eeac8d8feae4a8cad5a6af0499a211d</td>\n",
       "      <td>51000.0</td>\n",
       "    </tr>\n",
       "  </tbody>\n",
       "</table>\n",
       "</div>"
      ],
      "text/plain": [
       "  gender  age                                id    income\n",
       "0      F   55  0610b486422d4921ae7d2bf64640c50b  112000.0\n",
       "1      F   75  78afa995795e4d85b5d9ceeca43f5fef  100000.0\n",
       "2      M   68  e2127556f4f64592b11af22de27a7932   70000.0\n",
       "3      M   65  389bc3fa690240e798340f5a15918d5c   53000.0\n",
       "4      M   58  2eeac8d8feae4a8cad5a6af0499a211d   51000.0"
      ]
     },
     "execution_count": 22,
     "metadata": {},
     "output_type": "execute_result"
    }
   ],
   "source": [
    "profile.drop(\"became_member_on\", inplace=True, axis=1)\n",
    "# Verify the operation \n",
    "profile.head()"
   ]
  },
  {
   "cell_type": "markdown",
   "id": "0c9ef12f",
   "metadata": {},
   "source": [
    "#### Transcript"
   ]
  },
  {
   "cell_type": "code",
   "execution_count": 23,
   "id": "9dc285fd",
   "metadata": {},
   "outputs": [
    {
     "data": {
      "text/html": [
       "<div>\n",
       "<style scoped>\n",
       "    .dataframe tbody tr th:only-of-type {\n",
       "        vertical-align: middle;\n",
       "    }\n",
       "\n",
       "    .dataframe tbody tr th {\n",
       "        vertical-align: top;\n",
       "    }\n",
       "\n",
       "    .dataframe thead th {\n",
       "        text-align: right;\n",
       "    }\n",
       "</style>\n",
       "<table border=\"1\" class=\"dataframe\">\n",
       "  <thead>\n",
       "    <tr style=\"text-align: right;\">\n",
       "      <th></th>\n",
       "      <th>person</th>\n",
       "      <th>event</th>\n",
       "      <th>value</th>\n",
       "      <th>time</th>\n",
       "    </tr>\n",
       "  </thead>\n",
       "  <tbody>\n",
       "    <tr>\n",
       "      <th>0</th>\n",
       "      <td>78afa995795e4d85b5d9ceeca43f5fef</td>\n",
       "      <td>offer received</td>\n",
       "      <td>{'offer id': '9b98b8c7a33c4b65b9aebfe6a799e6d9'}</td>\n",
       "      <td>0</td>\n",
       "    </tr>\n",
       "    <tr>\n",
       "      <th>1</th>\n",
       "      <td>a03223e636434f42ac4c3df47e8bac43</td>\n",
       "      <td>offer received</td>\n",
       "      <td>{'offer id': '0b1e1539f2cc45b7b9fa7c272da2e1d7'}</td>\n",
       "      <td>0</td>\n",
       "    </tr>\n",
       "    <tr>\n",
       "      <th>2</th>\n",
       "      <td>e2127556f4f64592b11af22de27a7932</td>\n",
       "      <td>offer received</td>\n",
       "      <td>{'offer id': '2906b810c7d4411798c6938adc9daaa5'}</td>\n",
       "      <td>0</td>\n",
       "    </tr>\n",
       "    <tr>\n",
       "      <th>3</th>\n",
       "      <td>8ec6ce2a7e7949b1bf142def7d0e0586</td>\n",
       "      <td>offer received</td>\n",
       "      <td>{'offer id': 'fafdcd668e3743c1bb461111dcafc2a4'}</td>\n",
       "      <td>0</td>\n",
       "    </tr>\n",
       "    <tr>\n",
       "      <th>4</th>\n",
       "      <td>68617ca6246f4fbc85e91a2a49552598</td>\n",
       "      <td>offer received</td>\n",
       "      <td>{'offer id': '4d5c57ea9a6940dd891ad53e9dbe8da0'}</td>\n",
       "      <td>0</td>\n",
       "    </tr>\n",
       "  </tbody>\n",
       "</table>\n",
       "</div>"
      ],
      "text/plain": [
       "                             person           event   \n",
       "0  78afa995795e4d85b5d9ceeca43f5fef  offer received  \\\n",
       "1  a03223e636434f42ac4c3df47e8bac43  offer received   \n",
       "2  e2127556f4f64592b11af22de27a7932  offer received   \n",
       "3  8ec6ce2a7e7949b1bf142def7d0e0586  offer received   \n",
       "4  68617ca6246f4fbc85e91a2a49552598  offer received   \n",
       "\n",
       "                                              value  time  \n",
       "0  {'offer id': '9b98b8c7a33c4b65b9aebfe6a799e6d9'}     0  \n",
       "1  {'offer id': '0b1e1539f2cc45b7b9fa7c272da2e1d7'}     0  \n",
       "2  {'offer id': '2906b810c7d4411798c6938adc9daaa5'}     0  \n",
       "3  {'offer id': 'fafdcd668e3743c1bb461111dcafc2a4'}     0  \n",
       "4  {'offer id': '4d5c57ea9a6940dd891ad53e9dbe8da0'}     0  "
      ]
     },
     "execution_count": 23,
     "metadata": {},
     "output_type": "execute_result"
    }
   ],
   "source": [
    "transcript.head()"
   ]
  },
  {
   "cell_type": "markdown",
   "id": "d119eb30",
   "metadata": {},
   "source": [
    "Find the dataset shape"
   ]
  },
  {
   "cell_type": "code",
   "execution_count": 24,
   "id": "e29df58f",
   "metadata": {},
   "outputs": [
    {
     "data": {
      "text/plain": [
       "(306534, 4)"
      ]
     },
     "execution_count": 24,
     "metadata": {},
     "output_type": "execute_result"
    }
   ],
   "source": [
    "transcript.shape"
   ]
  },
  {
   "cell_type": "markdown",
   "id": "cf03b0b3",
   "metadata": {},
   "source": [
    "The \"value\" column in transcript has dictionary/json values. Lets find what they contain(their key)."
   ]
  },
  {
   "cell_type": "code",
   "execution_count": 25,
   "id": "b1c537d7",
   "metadata": {},
   "outputs": [
    {
     "data": {
      "text/plain": [
       "{'amount', 'offer id', 'offer_id', 'reward'}"
      ]
     },
     "execution_count": 25,
     "metadata": {},
     "output_type": "execute_result"
    }
   ],
   "source": [
    "# Extract values into a dictionaries and store them in a list \n",
    "values = [ast.literal_eval(value) for value in transcript[\"value\"]]\n",
    "\n",
    "# Get the keys of the dictionaries and store them to a list \n",
    "# distinct_keys = set(key for value in values for key in value.key())\n",
    "\n",
    "value_keys = list() # to store all available keys in the dictionaries \n",
    "\n",
    "for value in values:\n",
    "    keys = list(value.keys())\n",
    "    for key in keys:\n",
    "        value_keys.append(key)\n",
    "        \n",
    "distinct_keys = set(value_keys)\n",
    "distinct_keys"
   ]
  },
  {
   "cell_type": "markdown",
   "id": "3c37a5fe",
   "metadata": {},
   "source": [
    "There are two similar key elements in the value feature, \"offer_id\" and \"offer id\". The \"offer id\" element need to be changed to \"offer_id\""
   ]
  },
  {
   "cell_type": "code",
   "execution_count": 26,
   "id": "851ef6fe",
   "metadata": {},
   "outputs": [
    {
     "data": {
      "text/plain": [
       "{'amount', 'offer_id', 'reward'}"
      ]
     },
     "execution_count": 26,
     "metadata": {},
     "output_type": "execute_result"
    }
   ],
   "source": [
    "# Change \"offer id\" to \"offer_id\"\n",
    "transcript[\"value\"].replace(\"offer id\", \"offer_id\", inplace=True, regex=True)\n",
    "\n",
    "# Confirm the changes \n",
    "values = [ast.literal_eval(value) for value in transcript[\"value\"]]\n",
    "\n",
    "distinct_keys = set(key for value in values for key in value.keys())\n",
    "distinct_keys"
   ]
  },
  {
   "cell_type": "markdown",
   "id": "ef9aa6f5",
   "metadata": {},
   "source": [
    "Wow! The changes took place in the dataset."
   ]
  },
  {
   "cell_type": "code",
   "execution_count": 27,
   "id": "dcd10e70",
   "metadata": {},
   "outputs": [
    {
     "data": {
      "text/html": [
       "<div>\n",
       "<style scoped>\n",
       "    .dataframe tbody tr th:only-of-type {\n",
       "        vertical-align: middle;\n",
       "    }\n",
       "\n",
       "    .dataframe tbody tr th {\n",
       "        vertical-align: top;\n",
       "    }\n",
       "\n",
       "    .dataframe thead th {\n",
       "        text-align: right;\n",
       "    }\n",
       "</style>\n",
       "<table border=\"1\" class=\"dataframe\">\n",
       "  <thead>\n",
       "    <tr style=\"text-align: right;\">\n",
       "      <th></th>\n",
       "      <th>person</th>\n",
       "      <th>event</th>\n",
       "      <th>value</th>\n",
       "      <th>time</th>\n",
       "    </tr>\n",
       "  </thead>\n",
       "  <tbody>\n",
       "    <tr>\n",
       "      <th>0</th>\n",
       "      <td>78afa995795e4d85b5d9ceeca43f5fef</td>\n",
       "      <td>offer received</td>\n",
       "      <td>{'offer_id': '9b98b8c7a33c4b65b9aebfe6a799e6d9'}</td>\n",
       "      <td>0</td>\n",
       "    </tr>\n",
       "    <tr>\n",
       "      <th>1</th>\n",
       "      <td>a03223e636434f42ac4c3df47e8bac43</td>\n",
       "      <td>offer received</td>\n",
       "      <td>{'offer_id': '0b1e1539f2cc45b7b9fa7c272da2e1d7'}</td>\n",
       "      <td>0</td>\n",
       "    </tr>\n",
       "    <tr>\n",
       "      <th>2</th>\n",
       "      <td>e2127556f4f64592b11af22de27a7932</td>\n",
       "      <td>offer received</td>\n",
       "      <td>{'offer_id': '2906b810c7d4411798c6938adc9daaa5'}</td>\n",
       "      <td>0</td>\n",
       "    </tr>\n",
       "    <tr>\n",
       "      <th>3</th>\n",
       "      <td>8ec6ce2a7e7949b1bf142def7d0e0586</td>\n",
       "      <td>offer received</td>\n",
       "      <td>{'offer_id': 'fafdcd668e3743c1bb461111dcafc2a4'}</td>\n",
       "      <td>0</td>\n",
       "    </tr>\n",
       "    <tr>\n",
       "      <th>4</th>\n",
       "      <td>68617ca6246f4fbc85e91a2a49552598</td>\n",
       "      <td>offer received</td>\n",
       "      <td>{'offer_id': '4d5c57ea9a6940dd891ad53e9dbe8da0'}</td>\n",
       "      <td>0</td>\n",
       "    </tr>\n",
       "    <tr>\n",
       "      <th>...</th>\n",
       "      <td>...</td>\n",
       "      <td>...</td>\n",
       "      <td>...</td>\n",
       "      <td>...</td>\n",
       "    </tr>\n",
       "    <tr>\n",
       "      <th>306529</th>\n",
       "      <td>b3a1272bc9904337b331bf348c3e8c17</td>\n",
       "      <td>transaction</td>\n",
       "      <td>{'amount': 1.5899999999999999}</td>\n",
       "      <td>714</td>\n",
       "    </tr>\n",
       "    <tr>\n",
       "      <th>306530</th>\n",
       "      <td>68213b08d99a4ae1b0dcb72aebd9aa35</td>\n",
       "      <td>transaction</td>\n",
       "      <td>{'amount': 9.53}</td>\n",
       "      <td>714</td>\n",
       "    </tr>\n",
       "    <tr>\n",
       "      <th>306531</th>\n",
       "      <td>a00058cf10334a308c68e7631c529907</td>\n",
       "      <td>transaction</td>\n",
       "      <td>{'amount': 3.61}</td>\n",
       "      <td>714</td>\n",
       "    </tr>\n",
       "    <tr>\n",
       "      <th>306532</th>\n",
       "      <td>76ddbd6576844afe811f1a3c0fbb5bec</td>\n",
       "      <td>transaction</td>\n",
       "      <td>{'amount': 3.5300000000000002}</td>\n",
       "      <td>714</td>\n",
       "    </tr>\n",
       "    <tr>\n",
       "      <th>306533</th>\n",
       "      <td>c02b10e8752c4d8e9b73f918558531f7</td>\n",
       "      <td>transaction</td>\n",
       "      <td>{'amount': 4.05}</td>\n",
       "      <td>714</td>\n",
       "    </tr>\n",
       "  </tbody>\n",
       "</table>\n",
       "<p>306534 rows × 4 columns</p>\n",
       "</div>"
      ],
      "text/plain": [
       "                                  person           event   \n",
       "0       78afa995795e4d85b5d9ceeca43f5fef  offer received  \\\n",
       "1       a03223e636434f42ac4c3df47e8bac43  offer received   \n",
       "2       e2127556f4f64592b11af22de27a7932  offer received   \n",
       "3       8ec6ce2a7e7949b1bf142def7d0e0586  offer received   \n",
       "4       68617ca6246f4fbc85e91a2a49552598  offer received   \n",
       "...                                  ...             ...   \n",
       "306529  b3a1272bc9904337b331bf348c3e8c17     transaction   \n",
       "306530  68213b08d99a4ae1b0dcb72aebd9aa35     transaction   \n",
       "306531  a00058cf10334a308c68e7631c529907     transaction   \n",
       "306532  76ddbd6576844afe811f1a3c0fbb5bec     transaction   \n",
       "306533  c02b10e8752c4d8e9b73f918558531f7     transaction   \n",
       "\n",
       "                                                   value  time  \n",
       "0       {'offer_id': '9b98b8c7a33c4b65b9aebfe6a799e6d9'}     0  \n",
       "1       {'offer_id': '0b1e1539f2cc45b7b9fa7c272da2e1d7'}     0  \n",
       "2       {'offer_id': '2906b810c7d4411798c6938adc9daaa5'}     0  \n",
       "3       {'offer_id': 'fafdcd668e3743c1bb461111dcafc2a4'}     0  \n",
       "4       {'offer_id': '4d5c57ea9a6940dd891ad53e9dbe8da0'}     0  \n",
       "...                                                  ...   ...  \n",
       "306529                    {'amount': 1.5899999999999999}   714  \n",
       "306530                                  {'amount': 9.53}   714  \n",
       "306531                                  {'amount': 3.61}   714  \n",
       "306532                    {'amount': 3.5300000000000002}   714  \n",
       "306533                                  {'amount': 4.05}   714  \n",
       "\n",
       "[306534 rows x 4 columns]"
      ]
     },
     "execution_count": 27,
     "metadata": {},
     "output_type": "execute_result"
    }
   ],
   "source": [
    "transcript"
   ]
  },
  {
   "cell_type": "code",
   "execution_count": 66,
   "id": "14503ecc",
   "metadata": {},
   "outputs": [
    {
     "data": {
      "text/plain": [
       "12654     {'amount': 0.8300000000000001}\n",
       "12657                  {'amount': 34.56}\n",
       "12659                  {'amount': 13.23}\n",
       "12670                  {'amount': 19.51}\n",
       "12671                  {'amount': 18.97}\n",
       "                       ...              \n",
       "306132    {'amount': 1.5899999999999999}\n",
       "306133                  {'amount': 9.53}\n",
       "306134                  {'amount': 3.61}\n",
       "306135    {'amount': 3.5300000000000002}\n",
       "306136                  {'amount': 4.05}\n",
       "Name: value, Length: 138953, dtype: object"
      ]
     },
     "execution_count": 66,
     "metadata": {},
     "output_type": "execute_result"
    }
   ],
   "source": [
    "transcript[transcript[\"event\"]==\"transaction\"][\"value\"]"
   ]
  },
  {
   "cell_type": "markdown",
   "id": "de8d730b",
   "metadata": {},
   "source": [
    "How complete is the dataset? Lets find the null values present and if there are any duplicated rows therein. "
   ]
  },
  {
   "cell_type": "code",
   "execution_count": 28,
   "id": "a1fb43c4",
   "metadata": {},
   "outputs": [
    {
     "data": {
      "text/plain": [
       "person    0\n",
       "event     0\n",
       "value     0\n",
       "time      0\n",
       "dtype: int64"
      ]
     },
     "execution_count": 28,
     "metadata": {},
     "output_type": "execute_result"
    }
   ],
   "source": [
    "transcript.isna().sum()"
   ]
  },
  {
   "cell_type": "markdown",
   "id": "bc9b15f1",
   "metadata": {},
   "source": [
    "There are no null values in the dataset"
   ]
  },
  {
   "cell_type": "code",
   "execution_count": 29,
   "id": "b0712292",
   "metadata": {},
   "outputs": [
    {
     "data": {
      "text/plain": [
       "397"
      ]
     },
     "execution_count": 29,
     "metadata": {},
     "output_type": "execute_result"
    }
   ],
   "source": [
    "transcript.duplicated().sum()"
   ]
  },
  {
   "cell_type": "markdown",
   "id": "39396340",
   "metadata": {},
   "source": [
    "There are duplicated records in the dataset that need to be removed. They will be removed while keeping the first one. This will affect the index but will be fixed by reindexing the dataset"
   ]
  },
  {
   "cell_type": "code",
   "execution_count": 30,
   "id": "da89d67e",
   "metadata": {},
   "outputs": [
    {
     "name": "stdout",
     "output_type": "stream",
     "text": [
      "Duplicated records:  0\n",
      "Data shape:  (306137, 4)\n"
     ]
    },
    {
     "data": {
      "text/html": [
       "<div>\n",
       "<style scoped>\n",
       "    .dataframe tbody tr th:only-of-type {\n",
       "        vertical-align: middle;\n",
       "    }\n",
       "\n",
       "    .dataframe tbody tr th {\n",
       "        vertical-align: top;\n",
       "    }\n",
       "\n",
       "    .dataframe thead th {\n",
       "        text-align: right;\n",
       "    }\n",
       "</style>\n",
       "<table border=\"1\" class=\"dataframe\">\n",
       "  <thead>\n",
       "    <tr style=\"text-align: right;\">\n",
       "      <th></th>\n",
       "      <th>person</th>\n",
       "      <th>event</th>\n",
       "      <th>value</th>\n",
       "      <th>time</th>\n",
       "    </tr>\n",
       "  </thead>\n",
       "  <tbody>\n",
       "    <tr>\n",
       "      <th>306132</th>\n",
       "      <td>b3a1272bc9904337b331bf348c3e8c17</td>\n",
       "      <td>transaction</td>\n",
       "      <td>{'amount': 1.5899999999999999}</td>\n",
       "      <td>714</td>\n",
       "    </tr>\n",
       "    <tr>\n",
       "      <th>306133</th>\n",
       "      <td>68213b08d99a4ae1b0dcb72aebd9aa35</td>\n",
       "      <td>transaction</td>\n",
       "      <td>{'amount': 9.53}</td>\n",
       "      <td>714</td>\n",
       "    </tr>\n",
       "    <tr>\n",
       "      <th>306134</th>\n",
       "      <td>a00058cf10334a308c68e7631c529907</td>\n",
       "      <td>transaction</td>\n",
       "      <td>{'amount': 3.61}</td>\n",
       "      <td>714</td>\n",
       "    </tr>\n",
       "    <tr>\n",
       "      <th>306135</th>\n",
       "      <td>76ddbd6576844afe811f1a3c0fbb5bec</td>\n",
       "      <td>transaction</td>\n",
       "      <td>{'amount': 3.5300000000000002}</td>\n",
       "      <td>714</td>\n",
       "    </tr>\n",
       "    <tr>\n",
       "      <th>306136</th>\n",
       "      <td>c02b10e8752c4d8e9b73f918558531f7</td>\n",
       "      <td>transaction</td>\n",
       "      <td>{'amount': 4.05}</td>\n",
       "      <td>714</td>\n",
       "    </tr>\n",
       "  </tbody>\n",
       "</table>\n",
       "</div>"
      ],
      "text/plain": [
       "                                  person        event   \n",
       "306132  b3a1272bc9904337b331bf348c3e8c17  transaction  \\\n",
       "306133  68213b08d99a4ae1b0dcb72aebd9aa35  transaction   \n",
       "306134  a00058cf10334a308c68e7631c529907  transaction   \n",
       "306135  76ddbd6576844afe811f1a3c0fbb5bec  transaction   \n",
       "306136  c02b10e8752c4d8e9b73f918558531f7  transaction   \n",
       "\n",
       "                                 value  time  \n",
       "306132  {'amount': 1.5899999999999999}   714  \n",
       "306133                {'amount': 9.53}   714  \n",
       "306134                {'amount': 3.61}   714  \n",
       "306135  {'amount': 3.5300000000000002}   714  \n",
       "306136                {'amount': 4.05}   714  "
      ]
     },
     "execution_count": 30,
     "metadata": {},
     "output_type": "execute_result"
    }
   ],
   "source": [
    "# Drop the the duplicated records \n",
    "transcript.drop_duplicates(keep=\"first\", inplace=True)\n",
    "\n",
    "# Reseting index \n",
    "transcript.reset_index(drop=True, inplace=True)\n",
    "\n",
    "# confirm the operation\n",
    "print(\"Duplicated records: \", transcript.duplicated().sum())\n",
    "# dataset dimensions \n",
    "print(\"Data shape: \", transcript.shape)\n",
    "# check if last index corresponds to the dataset dimensions \n",
    "transcript.tail()"
   ]
  },
  {
   "cell_type": "markdown",
   "id": "26d7f714",
   "metadata": {},
   "source": [
    "The last index corresponds with the size of the dataset. One last workaround is to check if the data types correspond with what is seen. This is especially for numeric and datetime features"
   ]
  },
  {
   "cell_type": "code",
   "execution_count": 31,
   "id": "2744eb83",
   "metadata": {},
   "outputs": [
    {
     "data": {
      "text/plain": [
       "person    object\n",
       "event     object\n",
       "value     object\n",
       "time       int64\n",
       "dtype: object"
      ]
     },
     "execution_count": 31,
     "metadata": {},
     "output_type": "execute_result"
    }
   ],
   "source": [
    "transcript.dtypes"
   ]
  },
  {
   "cell_type": "markdown",
   "id": "1c14e0fc",
   "metadata": {},
   "source": [
    "The \"time\" feature is seen as numeric and also recognized by the machine as integer. **All the dataset are now clean**. Outliers will be removed upon visualization before making dashboards. "
   ]
  },
  {
   "cell_type": "markdown",
   "id": "21b1c47b",
   "metadata": {},
   "source": [
    "## Data Visualizations "
   ]
  },
  {
   "cell_type": "markdown",
   "id": "5d2b70c9",
   "metadata": {},
   "source": [
    "Are there any ridiculous values in the \"age\" and \"income\" features? Lets plot some boxplots to show if there are any outliers. "
   ]
  },
  {
   "cell_type": "code",
   "execution_count": 32,
   "id": "7bc0aa6c",
   "metadata": {},
   "outputs": [
    {
     "data": {
      "text/plain": [
       "<AxesSubplot:title={'center':'Transcript data'}, xlabel='time'>"
      ]
     },
     "execution_count": 32,
     "metadata": {},
     "output_type": "execute_result"
    },
    {
     "data": {
      "image/png": "[encoded data removed]",
      "text/plain": [
       "<Figure size 1500x1500 with 4 Axes>"
      ]
     },
     "metadata": {},
     "output_type": "display_data"
    }
   ],
   "source": [
    "%matplotlib inline \n",
    "sns.set()\n",
    "plt.style.use(\"fivethirtyeight\")\n",
    "\n",
    "# Plotting \n",
    "fig, big_axes = plt.subplots(figsize=(15.0, 15.0) , nrows=2, ncols=1, sharey=False) \n",
    "fig.suptitle('Outliers in the datasets', fontsize=25)\n",
    "sns.despine(left=True, bottom= True)\n",
    "\n",
    "# PROFILE DATA\n",
    "big_axes[0].set_title(\"Profile data\", fontsize=20)\n",
    "big_axes[0].set_yticks([], [])\n",
    "\n",
    "# age\n",
    "ax_21 = fig.add_subplot(2,2,1)\n",
    "ax_21.set_title(\"Age\", fontsize=12)\n",
    "ax_21.set_yticks([], minor=True)\n",
    "sns.boxplot(profile[\"age\"], color=\"b\", ax=ax_21)\n",
    "\n",
    "# income\n",
    "ax_22 = fig.add_subplot(2,2,2)\n",
    "ax_22.set_title(\"Income\", fontsize=12)\n",
    "sns.boxplot(profile[\"income\"], color=\"b\", ax=ax_22)\n",
    "\n",
    "\n",
    "# TRANSCRIPT DATA \n",
    "big_axes[1].set_title(\"Transcript data\", fontsize=20)\n",
    "big_axes[1].set_yticks([], minor=True)\n",
    "sns.boxplot(transcript[\"time\"], color=\"b\", ax=big_axes[1])"
   ]
  },
  {
   "cell_type": "markdown",
   "id": "b107727c",
   "metadata": {},
   "source": [
    "There are not outliers in the dataset. The data is ready for further visualizations and modeling. "
   ]
  },
  {
   "cell_type": "markdown",
   "id": "63c18b2e",
   "metadata": {},
   "source": [
    "**Create data csv data for dashboards**"
   ]
  },
  {
   "cell_type": "code",
   "execution_count": 33,
   "id": "8a0769d0",
   "metadata": {},
   "outputs": [],
   "source": [
    "# Write the clean data to .csv files\n",
    "portfolio.to_csv(r\"data/output/portfolio_clean.csv\", index=False)\n",
    "profile.to_csv(r\"data/output/profile_clean.csv\", index=False)\n",
    "transcript.to_csv(r\"data/output/transcript_clean.csv\", index=False)"
   ]
  },
  {
   "cell_type": "markdown",
   "id": "c447da45",
   "metadata": {},
   "source": [
    "# RFM Analysis\n"
   ]
  },
  {
   "cell_type": "markdown",
   "id": "49d04bef",
   "metadata": {},
   "source": [
    "**RFM (Recency, Frequency, Monetary) analysis** is a behavior-based approach grouping customers into segments. It groups the customers on the basis of their previous purchase transactions. How recently, how often, and how much did a customer buy. RFM filters customers into various groups for the purpose of better service\n",
    "<br>\n",
    "**Recency** : the number of days since last purchase"
   ]
  },
  {
   "cell_type": "code",
   "execution_count": 34,
   "id": "8df8b30f",
   "metadata": {},
   "outputs": [
    {
     "data": {
      "text/html": [
       "<div>\n",
       "<style scoped>\n",
       "    .dataframe tbody tr th:only-of-type {\n",
       "        vertical-align: middle;\n",
       "    }\n",
       "\n",
       "    .dataframe tbody tr th {\n",
       "        vertical-align: top;\n",
       "    }\n",
       "\n",
       "    .dataframe thead th {\n",
       "        text-align: right;\n",
       "    }\n",
       "</style>\n",
       "<table border=\"1\" class=\"dataframe\">\n",
       "  <thead>\n",
       "    <tr style=\"text-align: right;\">\n",
       "      <th></th>\n",
       "      <th>person</th>\n",
       "      <th>event</th>\n",
       "      <th>value</th>\n",
       "      <th>time</th>\n",
       "    </tr>\n",
       "  </thead>\n",
       "  <tbody>\n",
       "    <tr>\n",
       "      <th>0</th>\n",
       "      <td>78afa995795e4d85b5d9ceeca43f5fef</td>\n",
       "      <td>offer received</td>\n",
       "      <td>{'offer_id': '9b98b8c7a33c4b65b9aebfe6a799e6d9'}</td>\n",
       "      <td>0</td>\n",
       "    </tr>\n",
       "    <tr>\n",
       "      <th>1</th>\n",
       "      <td>a03223e636434f42ac4c3df47e8bac43</td>\n",
       "      <td>offer received</td>\n",
       "      <td>{'offer_id': '0b1e1539f2cc45b7b9fa7c272da2e1d7'}</td>\n",
       "      <td>0</td>\n",
       "    </tr>\n",
       "    <tr>\n",
       "      <th>2</th>\n",
       "      <td>e2127556f4f64592b11af22de27a7932</td>\n",
       "      <td>offer received</td>\n",
       "      <td>{'offer_id': '2906b810c7d4411798c6938adc9daaa5'}</td>\n",
       "      <td>0</td>\n",
       "    </tr>\n",
       "    <tr>\n",
       "      <th>3</th>\n",
       "      <td>8ec6ce2a7e7949b1bf142def7d0e0586</td>\n",
       "      <td>offer received</td>\n",
       "      <td>{'offer_id': 'fafdcd668e3743c1bb461111dcafc2a4'}</td>\n",
       "      <td>0</td>\n",
       "    </tr>\n",
       "    <tr>\n",
       "      <th>4</th>\n",
       "      <td>68617ca6246f4fbc85e91a2a49552598</td>\n",
       "      <td>offer received</td>\n",
       "      <td>{'offer_id': '4d5c57ea9a6940dd891ad53e9dbe8da0'}</td>\n",
       "      <td>0</td>\n",
       "    </tr>\n",
       "  </tbody>\n",
       "</table>\n",
       "</div>"
      ],
      "text/plain": [
       "                             person           event   \n",
       "0  78afa995795e4d85b5d9ceeca43f5fef  offer received  \\\n",
       "1  a03223e636434f42ac4c3df47e8bac43  offer received   \n",
       "2  e2127556f4f64592b11af22de27a7932  offer received   \n",
       "3  8ec6ce2a7e7949b1bf142def7d0e0586  offer received   \n",
       "4  68617ca6246f4fbc85e91a2a49552598  offer received   \n",
       "\n",
       "                                              value  time  \n",
       "0  {'offer_id': '9b98b8c7a33c4b65b9aebfe6a799e6d9'}     0  \n",
       "1  {'offer_id': '0b1e1539f2cc45b7b9fa7c272da2e1d7'}     0  \n",
       "2  {'offer_id': '2906b810c7d4411798c6938adc9daaa5'}     0  \n",
       "3  {'offer_id': 'fafdcd668e3743c1bb461111dcafc2a4'}     0  \n",
       "4  {'offer_id': '4d5c57ea9a6940dd891ad53e9dbe8da0'}     0  "
      ]
     },
     "execution_count": 34,
     "metadata": {},
     "output_type": "execute_result"
    }
   ],
   "source": [
    "transcript.head()"
   ]
  },
  {
   "cell_type": "markdown",
   "id": "364db8d2",
   "metadata": {},
   "source": [
    "RFM analysis focuses on when the customer bought the goods, therefore in this case is where the transaction was completed. The transcript dataset was filtered to retrieve the records where the transactions were completed. They were then stored in 'sales_data' dataframe. "
   ]
  },
  {
   "cell_type": "code",
   "execution_count": 35,
   "id": "4033d95d",
   "metadata": {},
   "outputs": [
    {
     "data": {
      "text/html": [
       "<div>\n",
       "<style scoped>\n",
       "    .dataframe tbody tr th:only-of-type {\n",
       "        vertical-align: middle;\n",
       "    }\n",
       "\n",
       "    .dataframe tbody tr th {\n",
       "        vertical-align: top;\n",
       "    }\n",
       "\n",
       "    .dataframe thead th {\n",
       "        text-align: right;\n",
       "    }\n",
       "</style>\n",
       "<table border=\"1\" class=\"dataframe\">\n",
       "  <thead>\n",
       "    <tr style=\"text-align: right;\">\n",
       "      <th></th>\n",
       "      <th>person</th>\n",
       "      <th>event</th>\n",
       "      <th>value</th>\n",
       "      <th>time</th>\n",
       "    </tr>\n",
       "  </thead>\n",
       "  <tbody>\n",
       "    <tr>\n",
       "      <th>0</th>\n",
       "      <td>02c083884c7d45b39cc68e1314fec56c</td>\n",
       "      <td>transaction</td>\n",
       "      <td>{'amount': 0.8300000000000001}</td>\n",
       "      <td>0</td>\n",
       "    </tr>\n",
       "    <tr>\n",
       "      <th>1</th>\n",
       "      <td>9fa9ae8f57894cc9a3b8a9bbe0fc1b2f</td>\n",
       "      <td>transaction</td>\n",
       "      <td>{'amount': 34.56}</td>\n",
       "      <td>0</td>\n",
       "    </tr>\n",
       "    <tr>\n",
       "      <th>2</th>\n",
       "      <td>54890f68699049c2a04d415abc25e717</td>\n",
       "      <td>transaction</td>\n",
       "      <td>{'amount': 13.23}</td>\n",
       "      <td>0</td>\n",
       "    </tr>\n",
       "    <tr>\n",
       "      <th>3</th>\n",
       "      <td>b2f1cd155b864803ad8334cdf13c4bd2</td>\n",
       "      <td>transaction</td>\n",
       "      <td>{'amount': 19.51}</td>\n",
       "      <td>0</td>\n",
       "    </tr>\n",
       "    <tr>\n",
       "      <th>4</th>\n",
       "      <td>fe97aa22dd3e48c8b143116a8403dd52</td>\n",
       "      <td>transaction</td>\n",
       "      <td>{'amount': 18.97}</td>\n",
       "      <td>0</td>\n",
       "    </tr>\n",
       "  </tbody>\n",
       "</table>\n",
       "</div>"
      ],
      "text/plain": [
       "                             person        event   \n",
       "0  02c083884c7d45b39cc68e1314fec56c  transaction  \\\n",
       "1  9fa9ae8f57894cc9a3b8a9bbe0fc1b2f  transaction   \n",
       "2  54890f68699049c2a04d415abc25e717  transaction   \n",
       "3  b2f1cd155b864803ad8334cdf13c4bd2  transaction   \n",
       "4  fe97aa22dd3e48c8b143116a8403dd52  transaction   \n",
       "\n",
       "                            value  time  \n",
       "0  {'amount': 0.8300000000000001}     0  \n",
       "1               {'amount': 34.56}     0  \n",
       "2               {'amount': 13.23}     0  \n",
       "3               {'amount': 19.51}     0  \n",
       "4               {'amount': 18.97}     0  "
      ]
     },
     "execution_count": 35,
     "metadata": {},
     "output_type": "execute_result"
    }
   ],
   "source": [
    "sales_data = transcript[transcript[\"event\"]==\"transaction\"].reset_index(drop=True)\n",
    "sales_data.head()"
   ]
  },
  {
   "cell_type": "markdown",
   "id": "56092869",
   "metadata": {},
   "source": [
    "In this dataset 'time' feature was the recency in RFM. It represented the number of days since the customer last visited Starbucks. The person_id column and 'time' feature which is the recency were retrieved. The first five records were then inspected. "
   ]
  },
  {
   "cell_type": "code",
   "execution_count": 36,
   "id": "be2f2074",
   "metadata": {},
   "outputs": [
    {
     "data": {
      "text/html": [
       "<div>\n",
       "<style scoped>\n",
       "    .dataframe tbody tr th:only-of-type {\n",
       "        vertical-align: middle;\n",
       "    }\n",
       "\n",
       "    .dataframe tbody tr th {\n",
       "        vertical-align: top;\n",
       "    }\n",
       "\n",
       "    .dataframe thead th {\n",
       "        text-align: right;\n",
       "    }\n",
       "</style>\n",
       "<table border=\"1\" class=\"dataframe\">\n",
       "  <thead>\n",
       "    <tr style=\"text-align: right;\">\n",
       "      <th></th>\n",
       "      <th>person</th>\n",
       "      <th>recency</th>\n",
       "    </tr>\n",
       "  </thead>\n",
       "  <tbody>\n",
       "    <tr>\n",
       "      <th>0</th>\n",
       "      <td>0009655768c64bdeb2e877511632db8f</td>\n",
       "      <td>228</td>\n",
       "    </tr>\n",
       "    <tr>\n",
       "      <th>1</th>\n",
       "      <td>00116118485d4dfda04fdbaba9a87b5c</td>\n",
       "      <td>294</td>\n",
       "    </tr>\n",
       "    <tr>\n",
       "      <th>2</th>\n",
       "      <td>0011e0d4e6b944f998e987f904e8c1e5</td>\n",
       "      <td>132</td>\n",
       "    </tr>\n",
       "    <tr>\n",
       "      <th>3</th>\n",
       "      <td>0020c2b971eb4e9188eac86d93036a77</td>\n",
       "      <td>54</td>\n",
       "    </tr>\n",
       "    <tr>\n",
       "      <th>4</th>\n",
       "      <td>0020ccbbb6d84e358d3414a3ff76cffd</td>\n",
       "      <td>42</td>\n",
       "    </tr>\n",
       "  </tbody>\n",
       "</table>\n",
       "</div>"
      ],
      "text/plain": [
       "                             person  recency\n",
       "0  0009655768c64bdeb2e877511632db8f      228\n",
       "1  00116118485d4dfda04fdbaba9a87b5c      294\n",
       "2  0011e0d4e6b944f998e987f904e8c1e5      132\n",
       "3  0020c2b971eb4e9188eac86d93036a77       54\n",
       "4  0020ccbbb6d84e358d3414a3ff76cffd       42"
      ]
     },
     "execution_count": 36,
     "metadata": {},
     "output_type": "execute_result"
    }
   ],
   "source": [
    "rfm_data = sales_data[[\"person\", \"time\"]].groupby(\"person\").min().reset_index()\n",
    "rfm_data.rename({\"time\":\"recency\"}, axis=1, inplace=True)\n",
    "rfm_data.head()"
   ]
  },
  {
   "cell_type": "markdown",
   "id": "c9aa1e60",
   "metadata": {},
   "source": [
    "merge with the sales data "
   ]
  },
  {
   "cell_type": "code",
   "execution_count": 37,
   "id": "5ce4ab1d",
   "metadata": {},
   "outputs": [],
   "source": [
    "# sales_data = sales_data.merge(recency_data, on=\"person\")\n",
    "# sales_data.shape"
   ]
  },
  {
   "cell_type": "code",
   "execution_count": 38,
   "id": "7f8291e9",
   "metadata": {},
   "outputs": [],
   "source": [
    "# sales_data.head()"
   ]
  },
  {
   "cell_type": "markdown",
   "id": "95d764db",
   "metadata": {},
   "source": [
    "**Frequency** : Who has purchased frequently? It means the total number of purchases for each customer. ( high frequency). Some customers purchased once(their frequency is one) while other customers made several transactions (their frequency=number of transactions made)\n",
    "<br>\n",
    "Number of transaction on each individual will be extracted here."
   ]
  },
  {
   "cell_type": "code",
   "execution_count": 39,
   "id": "7037a7b2",
   "metadata": {},
   "outputs": [
    {
     "data": {
      "text/html": [
       "<div>\n",
       "<style scoped>\n",
       "    .dataframe tbody tr th:only-of-type {\n",
       "        vertical-align: middle;\n",
       "    }\n",
       "\n",
       "    .dataframe tbody tr th {\n",
       "        vertical-align: top;\n",
       "    }\n",
       "\n",
       "    .dataframe thead th {\n",
       "        text-align: right;\n",
       "    }\n",
       "</style>\n",
       "<table border=\"1\" class=\"dataframe\">\n",
       "  <thead>\n",
       "    <tr style=\"text-align: right;\">\n",
       "      <th></th>\n",
       "      <th>person</th>\n",
       "      <th>frequency</th>\n",
       "    </tr>\n",
       "  </thead>\n",
       "  <tbody>\n",
       "    <tr>\n",
       "      <th>0</th>\n",
       "      <td>79d9d4f86aca4bed9290350fb43817c2</td>\n",
       "      <td>36</td>\n",
       "    </tr>\n",
       "    <tr>\n",
       "      <th>1</th>\n",
       "      <td>8dbfa485249f409aa223a2130f40634a</td>\n",
       "      <td>36</td>\n",
       "    </tr>\n",
       "    <tr>\n",
       "      <th>2</th>\n",
       "      <td>94de646f7b6041228ca7dec82adb97d2</td>\n",
       "      <td>35</td>\n",
       "    </tr>\n",
       "    <tr>\n",
       "      <th>3</th>\n",
       "      <td>b1f4ece7d49342628a9ed77aee2cde58</td>\n",
       "      <td>32</td>\n",
       "    </tr>\n",
       "    <tr>\n",
       "      <th>4</th>\n",
       "      <td>5e60c6aa3b834e44b822ea43a3efea26</td>\n",
       "      <td>32</td>\n",
       "    </tr>\n",
       "  </tbody>\n",
       "</table>\n",
       "</div>"
      ],
      "text/plain": [
       "                             person  frequency\n",
       "0  79d9d4f86aca4bed9290350fb43817c2         36\n",
       "1  8dbfa485249f409aa223a2130f40634a         36\n",
       "2  94de646f7b6041228ca7dec82adb97d2         35\n",
       "3  b1f4ece7d49342628a9ed77aee2cde58         32\n",
       "4  5e60c6aa3b834e44b822ea43a3efea26         32"
      ]
     },
     "execution_count": 39,
     "metadata": {},
     "output_type": "execute_result"
    }
   ],
   "source": [
    "frequency = sales_data[\"person\"].value_counts()\n",
    "\n",
    "# Create a frequency dataframe\n",
    "frequency_df = pd.DataFrame({\n",
    "    \"person\":frequency.index,\n",
    "    \"frequency\":frequency.values\n",
    "})\n",
    "\n",
    "\n",
    "frequency_df.head()"
   ]
  },
  {
   "cell_type": "markdown",
   "id": "4369c300",
   "metadata": {},
   "source": [
    "the frequency values were latter appended to the rfm_data"
   ]
  },
  {
   "cell_type": "code",
   "execution_count": 40,
   "id": "12c68192",
   "metadata": {},
   "outputs": [
    {
     "data": {
      "text/html": [
       "<div>\n",
       "<style scoped>\n",
       "    .dataframe tbody tr th:only-of-type {\n",
       "        vertical-align: middle;\n",
       "    }\n",
       "\n",
       "    .dataframe tbody tr th {\n",
       "        vertical-align: top;\n",
       "    }\n",
       "\n",
       "    .dataframe thead th {\n",
       "        text-align: right;\n",
       "    }\n",
       "</style>\n",
       "<table border=\"1\" class=\"dataframe\">\n",
       "  <thead>\n",
       "    <tr style=\"text-align: right;\">\n",
       "      <th></th>\n",
       "      <th>person</th>\n",
       "      <th>recency</th>\n",
       "      <th>frequency</th>\n",
       "    </tr>\n",
       "  </thead>\n",
       "  <tbody>\n",
       "    <tr>\n",
       "      <th>0</th>\n",
       "      <td>0009655768c64bdeb2e877511632db8f</td>\n",
       "      <td>228</td>\n",
       "      <td>8</td>\n",
       "    </tr>\n",
       "    <tr>\n",
       "      <th>1</th>\n",
       "      <td>00116118485d4dfda04fdbaba9a87b5c</td>\n",
       "      <td>294</td>\n",
       "      <td>3</td>\n",
       "    </tr>\n",
       "    <tr>\n",
       "      <th>2</th>\n",
       "      <td>0011e0d4e6b944f998e987f904e8c1e5</td>\n",
       "      <td>132</td>\n",
       "      <td>5</td>\n",
       "    </tr>\n",
       "    <tr>\n",
       "      <th>3</th>\n",
       "      <td>0020c2b971eb4e9188eac86d93036a77</td>\n",
       "      <td>54</td>\n",
       "      <td>8</td>\n",
       "    </tr>\n",
       "    <tr>\n",
       "      <th>4</th>\n",
       "      <td>0020ccbbb6d84e358d3414a3ff76cffd</td>\n",
       "      <td>42</td>\n",
       "      <td>12</td>\n",
       "    </tr>\n",
       "  </tbody>\n",
       "</table>\n",
       "</div>"
      ],
      "text/plain": [
       "                             person  recency  frequency\n",
       "0  0009655768c64bdeb2e877511632db8f      228          8\n",
       "1  00116118485d4dfda04fdbaba9a87b5c      294          3\n",
       "2  0011e0d4e6b944f998e987f904e8c1e5      132          5\n",
       "3  0020c2b971eb4e9188eac86d93036a77       54          8\n",
       "4  0020ccbbb6d84e358d3414a3ff76cffd       42         12"
      ]
     },
     "execution_count": 40,
     "metadata": {},
     "output_type": "execute_result"
    }
   ],
   "source": [
    "rfm_data = rfm_data.merge(frequency_df, left_on=\"person\", right_on=\"person\")\n",
    "rfm_data.head()"
   ]
  },
  {
   "cell_type": "code",
   "execution_count": 41,
   "id": "af5e75c6",
   "metadata": {},
   "outputs": [],
   "source": [
    "# rfm_data[\"frequency\"] = frequency.values\n",
    "# rfm_data.tail()"
   ]
  },
  {
   "cell_type": "markdown",
   "id": "fd0ee46f",
   "metadata": {},
   "source": [
    "**Monetary**: Monetary Value(M): Who have high purchase amount? It means the total money customer spent (high monetary value)"
   ]
  },
  {
   "cell_type": "code",
   "execution_count": 42,
   "id": "5f7f206a",
   "metadata": {},
   "outputs": [
    {
     "data": {
      "text/html": [
       "<div>\n",
       "<style scoped>\n",
       "    .dataframe tbody tr th:only-of-type {\n",
       "        vertical-align: middle;\n",
       "    }\n",
       "\n",
       "    .dataframe tbody tr th {\n",
       "        vertical-align: top;\n",
       "    }\n",
       "\n",
       "    .dataframe thead th {\n",
       "        text-align: right;\n",
       "    }\n",
       "</style>\n",
       "<table border=\"1\" class=\"dataframe\">\n",
       "  <thead>\n",
       "    <tr style=\"text-align: right;\">\n",
       "      <th></th>\n",
       "      <th>person</th>\n",
       "      <th>event</th>\n",
       "      <th>value</th>\n",
       "      <th>time</th>\n",
       "      <th>amount</th>\n",
       "    </tr>\n",
       "  </thead>\n",
       "  <tbody>\n",
       "    <tr>\n",
       "      <th>0</th>\n",
       "      <td>02c083884c7d45b39cc68e1314fec56c</td>\n",
       "      <td>transaction</td>\n",
       "      <td>{'amount': 0.8300000000000001}</td>\n",
       "      <td>0</td>\n",
       "      <td>0.83</td>\n",
       "    </tr>\n",
       "    <tr>\n",
       "      <th>1</th>\n",
       "      <td>9fa9ae8f57894cc9a3b8a9bbe0fc1b2f</td>\n",
       "      <td>transaction</td>\n",
       "      <td>{'amount': 34.56}</td>\n",
       "      <td>0</td>\n",
       "      <td>34.56</td>\n",
       "    </tr>\n",
       "    <tr>\n",
       "      <th>2</th>\n",
       "      <td>54890f68699049c2a04d415abc25e717</td>\n",
       "      <td>transaction</td>\n",
       "      <td>{'amount': 13.23}</td>\n",
       "      <td>0</td>\n",
       "      <td>13.23</td>\n",
       "    </tr>\n",
       "    <tr>\n",
       "      <th>3</th>\n",
       "      <td>b2f1cd155b864803ad8334cdf13c4bd2</td>\n",
       "      <td>transaction</td>\n",
       "      <td>{'amount': 19.51}</td>\n",
       "      <td>0</td>\n",
       "      <td>19.51</td>\n",
       "    </tr>\n",
       "    <tr>\n",
       "      <th>4</th>\n",
       "      <td>fe97aa22dd3e48c8b143116a8403dd52</td>\n",
       "      <td>transaction</td>\n",
       "      <td>{'amount': 18.97}</td>\n",
       "      <td>0</td>\n",
       "      <td>18.97</td>\n",
       "    </tr>\n",
       "  </tbody>\n",
       "</table>\n",
       "</div>"
      ],
      "text/plain": [
       "                             person        event   \n",
       "0  02c083884c7d45b39cc68e1314fec56c  transaction  \\\n",
       "1  9fa9ae8f57894cc9a3b8a9bbe0fc1b2f  transaction   \n",
       "2  54890f68699049c2a04d415abc25e717  transaction   \n",
       "3  b2f1cd155b864803ad8334cdf13c4bd2  transaction   \n",
       "4  fe97aa22dd3e48c8b143116a8403dd52  transaction   \n",
       "\n",
       "                            value  time  amount  \n",
       "0  {'amount': 0.8300000000000001}     0    0.83  \n",
       "1               {'amount': 34.56}     0   34.56  \n",
       "2               {'amount': 13.23}     0   13.23  \n",
       "3               {'amount': 19.51}     0   19.51  \n",
       "4               {'amount': 18.97}     0   18.97  "
      ]
     },
     "execution_count": 42,
     "metadata": {},
     "output_type": "execute_result"
    }
   ],
   "source": [
    "# Get the transaction values \n",
    "values = [ast.literal_eval(value) for value in sales_data[\"value\"]]\n",
    "amount = [value[\"amount\"] for value in values]\n",
    "\n",
    "# Append to the sales dataset \n",
    "sales_data[\"amount\"] = amount\n",
    "\n",
    "# verify the operation \n",
    "sales_data.head()"
   ]
  },
  {
   "cell_type": "code",
   "execution_count": 43,
   "id": "48db46ed",
   "metadata": {},
   "outputs": [
    {
     "data": {
      "text/html": [
       "<div>\n",
       "<style scoped>\n",
       "    .dataframe tbody tr th:only-of-type {\n",
       "        vertical-align: middle;\n",
       "    }\n",
       "\n",
       "    .dataframe tbody tr th {\n",
       "        vertical-align: top;\n",
       "    }\n",
       "\n",
       "    .dataframe thead th {\n",
       "        text-align: right;\n",
       "    }\n",
       "</style>\n",
       "<table border=\"1\" class=\"dataframe\">\n",
       "  <thead>\n",
       "    <tr style=\"text-align: right;\">\n",
       "      <th></th>\n",
       "      <th>person</th>\n",
       "      <th>amount</th>\n",
       "    </tr>\n",
       "  </thead>\n",
       "  <tbody>\n",
       "    <tr>\n",
       "      <th>0</th>\n",
       "      <td>0009655768c64bdeb2e877511632db8f</td>\n",
       "      <td>127.60</td>\n",
       "    </tr>\n",
       "    <tr>\n",
       "      <th>1</th>\n",
       "      <td>00116118485d4dfda04fdbaba9a87b5c</td>\n",
       "      <td>4.09</td>\n",
       "    </tr>\n",
       "    <tr>\n",
       "      <th>2</th>\n",
       "      <td>0011e0d4e6b944f998e987f904e8c1e5</td>\n",
       "      <td>79.46</td>\n",
       "    </tr>\n",
       "    <tr>\n",
       "      <th>3</th>\n",
       "      <td>0020c2b971eb4e9188eac86d93036a77</td>\n",
       "      <td>196.86</td>\n",
       "    </tr>\n",
       "    <tr>\n",
       "      <th>4</th>\n",
       "      <td>0020ccbbb6d84e358d3414a3ff76cffd</td>\n",
       "      <td>154.05</td>\n",
       "    </tr>\n",
       "  </tbody>\n",
       "</table>\n",
       "</div>"
      ],
      "text/plain": [
       "                             person  amount\n",
       "0  0009655768c64bdeb2e877511632db8f  127.60\n",
       "1  00116118485d4dfda04fdbaba9a87b5c    4.09\n",
       "2  0011e0d4e6b944f998e987f904e8c1e5   79.46\n",
       "3  0020c2b971eb4e9188eac86d93036a77  196.86\n",
       "4  0020ccbbb6d84e358d3414a3ff76cffd  154.05"
      ]
     },
     "execution_count": 43,
     "metadata": {},
     "output_type": "execute_result"
    }
   ],
   "source": [
    "# Calculate the total amount each customer spend and append on the rfm_data\n",
    "monetary_df = sales_data[[\"person\", \"amount\"]].groupby(\"person\").sum()\n",
    "monetary_df.reset_index(inplace=True)\n",
    "monetary_df.head()"
   ]
  },
  {
   "cell_type": "code",
   "execution_count": 44,
   "id": "b69cbf3c",
   "metadata": {},
   "outputs": [
    {
     "data": {
      "text/html": [
       "<div>\n",
       "<style scoped>\n",
       "    .dataframe tbody tr th:only-of-type {\n",
       "        vertical-align: middle;\n",
       "    }\n",
       "\n",
       "    .dataframe tbody tr th {\n",
       "        vertical-align: top;\n",
       "    }\n",
       "\n",
       "    .dataframe thead th {\n",
       "        text-align: right;\n",
       "    }\n",
       "</style>\n",
       "<table border=\"1\" class=\"dataframe\">\n",
       "  <thead>\n",
       "    <tr style=\"text-align: right;\">\n",
       "      <th></th>\n",
       "      <th>person</th>\n",
       "      <th>recency</th>\n",
       "      <th>frequency</th>\n",
       "      <th>monetary</th>\n",
       "    </tr>\n",
       "  </thead>\n",
       "  <tbody>\n",
       "    <tr>\n",
       "      <th>0</th>\n",
       "      <td>0009655768c64bdeb2e877511632db8f</td>\n",
       "      <td>228</td>\n",
       "      <td>8</td>\n",
       "      <td>127.60</td>\n",
       "    </tr>\n",
       "    <tr>\n",
       "      <th>1</th>\n",
       "      <td>00116118485d4dfda04fdbaba9a87b5c</td>\n",
       "      <td>294</td>\n",
       "      <td>3</td>\n",
       "      <td>4.09</td>\n",
       "    </tr>\n",
       "    <tr>\n",
       "      <th>2</th>\n",
       "      <td>0011e0d4e6b944f998e987f904e8c1e5</td>\n",
       "      <td>132</td>\n",
       "      <td>5</td>\n",
       "      <td>79.46</td>\n",
       "    </tr>\n",
       "    <tr>\n",
       "      <th>3</th>\n",
       "      <td>0020c2b971eb4e9188eac86d93036a77</td>\n",
       "      <td>54</td>\n",
       "      <td>8</td>\n",
       "      <td>196.86</td>\n",
       "    </tr>\n",
       "    <tr>\n",
       "      <th>4</th>\n",
       "      <td>0020ccbbb6d84e358d3414a3ff76cffd</td>\n",
       "      <td>42</td>\n",
       "      <td>12</td>\n",
       "      <td>154.05</td>\n",
       "    </tr>\n",
       "  </tbody>\n",
       "</table>\n",
       "</div>"
      ],
      "text/plain": [
       "                             person  recency  frequency  monetary\n",
       "0  0009655768c64bdeb2e877511632db8f      228          8    127.60\n",
       "1  00116118485d4dfda04fdbaba9a87b5c      294          3      4.09\n",
       "2  0011e0d4e6b944f998e987f904e8c1e5      132          5     79.46\n",
       "3  0020c2b971eb4e9188eac86d93036a77       54          8    196.86\n",
       "4  0020ccbbb6d84e358d3414a3ff76cffd       42         12    154.05"
      ]
     },
     "execution_count": 44,
     "metadata": {},
     "output_type": "execute_result"
    }
   ],
   "source": [
    "# Merge monetary dataframe with rfm data \n",
    "\n",
    "rfm_data = rfm_data.merge(monetary_df, left_on=\"person\", right_on=\"person\")\n",
    "rfm_data.rename({\"amount\":\"monetary\"}, axis=1, inplace = True)\n",
    "rfm_data.head()"
   ]
  },
  {
   "cell_type": "code",
   "execution_count": 45,
   "id": "84cea3c1",
   "metadata": {},
   "outputs": [],
   "source": [
    "# # Append to rfm data \n",
    "# rfm_data[\"monetary\"] = monetary_df[\"amount\"].values\n",
    "# rfm_data"
   ]
  },
  {
   "cell_type": "markdown",
   "id": "d2edfc30",
   "metadata": {},
   "source": [
    "Make the quartiles\n"
   ]
  },
  {
   "cell_type": "markdown",
   "id": "0f023ec3",
   "metadata": {},
   "source": [
    "The recency, frequency and monetary values were divided into five pentiles. The pentiles were names from '1' to '5' where '1' represented first priority customer while '5' represented the least priority customer. "
   ]
  },
  {
   "cell_type": "code",
   "execution_count": 46,
   "id": "5e4b8530",
   "metadata": {},
   "outputs": [
    {
     "data": {
      "text/html": [
       "<div>\n",
       "<style scoped>\n",
       "    .dataframe tbody tr th:only-of-type {\n",
       "        vertical-align: middle;\n",
       "    }\n",
       "\n",
       "    .dataframe tbody tr th {\n",
       "        vertical-align: top;\n",
       "    }\n",
       "\n",
       "    .dataframe thead th {\n",
       "        text-align: right;\n",
       "    }\n",
       "</style>\n",
       "<table border=\"1\" class=\"dataframe\">\n",
       "  <thead>\n",
       "    <tr style=\"text-align: right;\">\n",
       "      <th></th>\n",
       "      <th>person</th>\n",
       "      <th>recency</th>\n",
       "      <th>frequency</th>\n",
       "      <th>monetary</th>\n",
       "      <th>r_pentile</th>\n",
       "      <th>f_pentile</th>\n",
       "      <th>m_pentile</th>\n",
       "    </tr>\n",
       "  </thead>\n",
       "  <tbody>\n",
       "    <tr>\n",
       "      <th>16573</th>\n",
       "      <td>fff3ba4757bd42088c044ca26d73817a</td>\n",
       "      <td>6</td>\n",
       "      <td>11</td>\n",
       "      <td>580.98</td>\n",
       "      <td>1</td>\n",
       "      <td>2</td>\n",
       "      <td>1</td>\n",
       "    </tr>\n",
       "    <tr>\n",
       "      <th>16574</th>\n",
       "      <td>fff7576017104bcc8677a8d63322b5e1</td>\n",
       "      <td>36</td>\n",
       "      <td>6</td>\n",
       "      <td>29.94</td>\n",
       "      <td>2</td>\n",
       "      <td>4</td>\n",
       "      <td>4</td>\n",
       "    </tr>\n",
       "    <tr>\n",
       "      <th>16575</th>\n",
       "      <td>fff8957ea8b240a6b5e634b6ee8eafcf</td>\n",
       "      <td>18</td>\n",
       "      <td>5</td>\n",
       "      <td>12.15</td>\n",
       "      <td>1</td>\n",
       "      <td>4</td>\n",
       "      <td>5</td>\n",
       "    </tr>\n",
       "    <tr>\n",
       "      <th>16576</th>\n",
       "      <td>fffad4f4828548d1b5583907f2e9906b</td>\n",
       "      <td>36</td>\n",
       "      <td>12</td>\n",
       "      <td>88.83</td>\n",
       "      <td>2</td>\n",
       "      <td>2</td>\n",
       "      <td>3</td>\n",
       "    </tr>\n",
       "    <tr>\n",
       "      <th>16577</th>\n",
       "      <td>ffff82501cea40309d5fdd7edcca4a07</td>\n",
       "      <td>60</td>\n",
       "      <td>15</td>\n",
       "      <td>226.07</td>\n",
       "      <td>2</td>\n",
       "      <td>1</td>\n",
       "      <td>1</td>\n",
       "    </tr>\n",
       "  </tbody>\n",
       "</table>\n",
       "</div>"
      ],
      "text/plain": [
       "                                 person  recency  frequency  monetary   \n",
       "16573  fff3ba4757bd42088c044ca26d73817a        6         11    580.98  \\\n",
       "16574  fff7576017104bcc8677a8d63322b5e1       36          6     29.94   \n",
       "16575  fff8957ea8b240a6b5e634b6ee8eafcf       18          5     12.15   \n",
       "16576  fffad4f4828548d1b5583907f2e9906b       36         12     88.83   \n",
       "16577  ffff82501cea40309d5fdd7edcca4a07       60         15    226.07   \n",
       "\n",
       "      r_pentile f_pentile m_pentile  \n",
       "16573         1         2         1  \n",
       "16574         2         4         4  \n",
       "16575         1         4         5  \n",
       "16576         2         2         3  \n",
       "16577         2         1         1  "
      ]
     },
     "execution_count": 46,
     "metadata": {},
     "output_type": "execute_result"
    }
   ],
   "source": [
    "rfm_data['r_pentile'] = pd.qcut(rfm_data['recency'], 5, ['1','2','3','4','5'])\n",
    "rfm_data['f_pentile'] = pd.qcut(rfm_data['frequency'], 5, ['5','4','3','2','1'])\n",
    "rfm_data['m_pentile'] = pd.qcut(rfm_data['monetary'], 5, ['5', '4','3','2','1'])\n",
    "\n",
    "rfm_data.tail()"
   ]
  },
  {
   "cell_type": "markdown",
   "id": "37f613db",
   "metadata": {},
   "source": [
    "All the pentile labels were merged to a single string called the RFM score. The customers having RFM score of '555' were best since the were the most recent, most frequent and spent most on Starbucks"
   ]
  },
  {
   "cell_type": "code",
   "execution_count": 47,
   "id": "69087197",
   "metadata": {},
   "outputs": [
    {
     "data": {
      "text/html": [
       "<div>\n",
       "<style scoped>\n",
       "    .dataframe tbody tr th:only-of-type {\n",
       "        vertical-align: middle;\n",
       "    }\n",
       "\n",
       "    .dataframe tbody tr th {\n",
       "        vertical-align: top;\n",
       "    }\n",
       "\n",
       "    .dataframe thead th {\n",
       "        text-align: right;\n",
       "    }\n",
       "</style>\n",
       "<table border=\"1\" class=\"dataframe\">\n",
       "  <thead>\n",
       "    <tr style=\"text-align: right;\">\n",
       "      <th></th>\n",
       "      <th>person</th>\n",
       "      <th>recency</th>\n",
       "      <th>frequency</th>\n",
       "      <th>monetary</th>\n",
       "      <th>r_pentile</th>\n",
       "      <th>f_pentile</th>\n",
       "      <th>m_pentile</th>\n",
       "      <th>RFM_Score</th>\n",
       "    </tr>\n",
       "  </thead>\n",
       "  <tbody>\n",
       "    <tr>\n",
       "      <th>0</th>\n",
       "      <td>0009655768c64bdeb2e877511632db8f</td>\n",
       "      <td>228</td>\n",
       "      <td>8</td>\n",
       "      <td>127.60</td>\n",
       "      <td>4</td>\n",
       "      <td>3</td>\n",
       "      <td>2</td>\n",
       "      <td>432</td>\n",
       "    </tr>\n",
       "    <tr>\n",
       "      <th>1</th>\n",
       "      <td>00116118485d4dfda04fdbaba9a87b5c</td>\n",
       "      <td>294</td>\n",
       "      <td>3</td>\n",
       "      <td>4.09</td>\n",
       "      <td>5</td>\n",
       "      <td>5</td>\n",
       "      <td>5</td>\n",
       "      <td>555</td>\n",
       "    </tr>\n",
       "    <tr>\n",
       "      <th>2</th>\n",
       "      <td>0011e0d4e6b944f998e987f904e8c1e5</td>\n",
       "      <td>132</td>\n",
       "      <td>5</td>\n",
       "      <td>79.46</td>\n",
       "      <td>4</td>\n",
       "      <td>4</td>\n",
       "      <td>3</td>\n",
       "      <td>443</td>\n",
       "    </tr>\n",
       "    <tr>\n",
       "      <th>3</th>\n",
       "      <td>0020c2b971eb4e9188eac86d93036a77</td>\n",
       "      <td>54</td>\n",
       "      <td>8</td>\n",
       "      <td>196.86</td>\n",
       "      <td>2</td>\n",
       "      <td>3</td>\n",
       "      <td>1</td>\n",
       "      <td>231</td>\n",
       "    </tr>\n",
       "    <tr>\n",
       "      <th>4</th>\n",
       "      <td>0020ccbbb6d84e358d3414a3ff76cffd</td>\n",
       "      <td>42</td>\n",
       "      <td>12</td>\n",
       "      <td>154.05</td>\n",
       "      <td>2</td>\n",
       "      <td>2</td>\n",
       "      <td>2</td>\n",
       "      <td>222</td>\n",
       "    </tr>\n",
       "  </tbody>\n",
       "</table>\n",
       "</div>"
      ],
      "text/plain": [
       "                             person  recency  frequency  monetary r_pentile   \n",
       "0  0009655768c64bdeb2e877511632db8f      228          8    127.60         4  \\\n",
       "1  00116118485d4dfda04fdbaba9a87b5c      294          3      4.09         5   \n",
       "2  0011e0d4e6b944f998e987f904e8c1e5      132          5     79.46         4   \n",
       "3  0020c2b971eb4e9188eac86d93036a77       54          8    196.86         2   \n",
       "4  0020ccbbb6d84e358d3414a3ff76cffd       42         12    154.05         2   \n",
       "\n",
       "  f_pentile m_pentile RFM_Score  \n",
       "0         3         2       432  \n",
       "1         5         5       555  \n",
       "2         4         3       443  \n",
       "3         3         1       231  \n",
       "4         2         2       222  "
      ]
     },
     "execution_count": 47,
     "metadata": {},
     "output_type": "execute_result"
    }
   ],
   "source": [
    "rfm_data['RFM_Score'] = rfm_data.r_pentile.astype(str)+ rfm_data.f_pentile.astype(str) + rfm_data.m_pentile.astype(str)\n",
    "rfm_data.head()"
   ]
  },
  {
   "cell_type": "markdown",
   "id": "be72958a",
   "metadata": {},
   "source": [
    "The first priority customer are the ones with  score '1' in all the fields. They had an RFM score of 111"
   ]
  },
  {
   "cell_type": "code",
   "execution_count": 48,
   "id": "0af8d1a4",
   "metadata": {},
   "outputs": [
    {
     "data": {
      "text/html": [
       "<div>\n",
       "<style scoped>\n",
       "    .dataframe tbody tr th:only-of-type {\n",
       "        vertical-align: middle;\n",
       "    }\n",
       "\n",
       "    .dataframe tbody tr th {\n",
       "        vertical-align: top;\n",
       "    }\n",
       "\n",
       "    .dataframe thead th {\n",
       "        text-align: right;\n",
       "    }\n",
       "</style>\n",
       "<table border=\"1\" class=\"dataframe\">\n",
       "  <thead>\n",
       "    <tr style=\"text-align: right;\">\n",
       "      <th></th>\n",
       "      <th>person</th>\n",
       "      <th>recency</th>\n",
       "      <th>frequency</th>\n",
       "      <th>monetary</th>\n",
       "      <th>r_pentile</th>\n",
       "      <th>f_pentile</th>\n",
       "      <th>m_pentile</th>\n",
       "      <th>RFM_Score</th>\n",
       "    </tr>\n",
       "  </thead>\n",
       "  <tbody>\n",
       "    <tr>\n",
       "      <th>13</th>\n",
       "      <td>00715b6e55c3431cb56ff7307eb19675</td>\n",
       "      <td>12</td>\n",
       "      <td>15</td>\n",
       "      <td>375.12</td>\n",
       "      <td>1</td>\n",
       "      <td>1</td>\n",
       "      <td>1</td>\n",
       "      <td>111</td>\n",
       "    </tr>\n",
       "    <tr>\n",
       "      <th>124</th>\n",
       "      <td>020cd0f8047142e18a754303f9337d53</td>\n",
       "      <td>0</td>\n",
       "      <td>13</td>\n",
       "      <td>232.90</td>\n",
       "      <td>1</td>\n",
       "      <td>1</td>\n",
       "      <td>1</td>\n",
       "      <td>111</td>\n",
       "    </tr>\n",
       "    <tr>\n",
       "      <th>127</th>\n",
       "      <td>0215efe5136d4a038cb81eae92d59368</td>\n",
       "      <td>6</td>\n",
       "      <td>13</td>\n",
       "      <td>767.29</td>\n",
       "      <td>1</td>\n",
       "      <td>1</td>\n",
       "      <td>1</td>\n",
       "      <td>111</td>\n",
       "    </tr>\n",
       "    <tr>\n",
       "      <th>129</th>\n",
       "      <td>0217c4393fd54e74a523b63c0fcc3da5</td>\n",
       "      <td>6</td>\n",
       "      <td>13</td>\n",
       "      <td>230.21</td>\n",
       "      <td>1</td>\n",
       "      <td>1</td>\n",
       "      <td>1</td>\n",
       "      <td>111</td>\n",
       "    </tr>\n",
       "    <tr>\n",
       "      <th>156</th>\n",
       "      <td>028c88a958e54c36a31c4800fd6e887b</td>\n",
       "      <td>24</td>\n",
       "      <td>14</td>\n",
       "      <td>372.02</td>\n",
       "      <td>1</td>\n",
       "      <td>1</td>\n",
       "      <td>1</td>\n",
       "      <td>111</td>\n",
       "    </tr>\n",
       "    <tr>\n",
       "      <th>...</th>\n",
       "      <td>...</td>\n",
       "      <td>...</td>\n",
       "      <td>...</td>\n",
       "      <td>...</td>\n",
       "      <td>...</td>\n",
       "      <td>...</td>\n",
       "      <td>...</td>\n",
       "      <td>...</td>\n",
       "    </tr>\n",
       "    <tr>\n",
       "      <th>16509</th>\n",
       "      <td>fee2d799672d4f81bfa3237207290f79</td>\n",
       "      <td>6</td>\n",
       "      <td>21</td>\n",
       "      <td>361.49</td>\n",
       "      <td>1</td>\n",
       "      <td>1</td>\n",
       "      <td>1</td>\n",
       "      <td>111</td>\n",
       "    </tr>\n",
       "    <tr>\n",
       "      <th>16535</th>\n",
       "      <td>ff4e747db62441979fbbc18d871c42b1</td>\n",
       "      <td>12</td>\n",
       "      <td>17</td>\n",
       "      <td>236.22</td>\n",
       "      <td>1</td>\n",
       "      <td>1</td>\n",
       "      <td>1</td>\n",
       "      <td>111</td>\n",
       "    </tr>\n",
       "    <tr>\n",
       "      <th>16536</th>\n",
       "      <td>ff56a64e9a0e4bf5919723f31bce5965</td>\n",
       "      <td>18</td>\n",
       "      <td>14</td>\n",
       "      <td>217.16</td>\n",
       "      <td>1</td>\n",
       "      <td>1</td>\n",
       "      <td>1</td>\n",
       "      <td>111</td>\n",
       "    </tr>\n",
       "    <tr>\n",
       "      <th>16546</th>\n",
       "      <td>ff7fdf82996949ec82d158a02a1d9cca</td>\n",
       "      <td>6</td>\n",
       "      <td>17</td>\n",
       "      <td>255.05</td>\n",
       "      <td>1</td>\n",
       "      <td>1</td>\n",
       "      <td>1</td>\n",
       "      <td>111</td>\n",
       "    </tr>\n",
       "    <tr>\n",
       "      <th>16555</th>\n",
       "      <td>ff9f73ead16a4f9b9e1a53a27280af92</td>\n",
       "      <td>24</td>\n",
       "      <td>15</td>\n",
       "      <td>263.30</td>\n",
       "      <td>1</td>\n",
       "      <td>1</td>\n",
       "      <td>1</td>\n",
       "      <td>111</td>\n",
       "    </tr>\n",
       "  </tbody>\n",
       "</table>\n",
       "<p>518 rows × 8 columns</p>\n",
       "</div>"
      ],
      "text/plain": [
       "                                 person  recency  frequency  monetary   \n",
       "13     00715b6e55c3431cb56ff7307eb19675       12         15    375.12  \\\n",
       "124    020cd0f8047142e18a754303f9337d53        0         13    232.90   \n",
       "127    0215efe5136d4a038cb81eae92d59368        6         13    767.29   \n",
       "129    0217c4393fd54e74a523b63c0fcc3da5        6         13    230.21   \n",
       "156    028c88a958e54c36a31c4800fd6e887b       24         14    372.02   \n",
       "...                                 ...      ...        ...       ...   \n",
       "16509  fee2d799672d4f81bfa3237207290f79        6         21    361.49   \n",
       "16535  ff4e747db62441979fbbc18d871c42b1       12         17    236.22   \n",
       "16536  ff56a64e9a0e4bf5919723f31bce5965       18         14    217.16   \n",
       "16546  ff7fdf82996949ec82d158a02a1d9cca        6         17    255.05   \n",
       "16555  ff9f73ead16a4f9b9e1a53a27280af92       24         15    263.30   \n",
       "\n",
       "      r_pentile f_pentile m_pentile RFM_Score  \n",
       "13            1         1         1       111  \n",
       "124           1         1         1       111  \n",
       "127           1         1         1       111  \n",
       "129           1         1         1       111  \n",
       "156           1         1         1       111  \n",
       "...         ...       ...       ...       ...  \n",
       "16509         1         1         1       111  \n",
       "16535         1         1         1       111  \n",
       "16536         1         1         1       111  \n",
       "16546         1         1         1       111  \n",
       "16555         1         1         1       111  \n",
       "\n",
       "[518 rows x 8 columns]"
      ]
     },
     "execution_count": 48,
     "metadata": {},
     "output_type": "execute_result"
    }
   ],
   "source": [
    "rfm_data[rfm_data[\"RFM_Score\"]==\"111\"]"
   ]
  },
  {
   "cell_type": "code",
   "execution_count": 49,
   "id": "4fdb7024",
   "metadata": {},
   "outputs": [],
   "source": [
    "big_spenders = rfm_data[rfm_data[\"RFM_Score\"]==\"111\"]\n",
    "big_spenders.reset_index(drop=True, inplace=True)\n",
    "big_spenders.to_csv(r\"data/output/bigspenders.csv\") #write the data locally"
   ]
  },
  {
   "cell_type": "markdown",
   "id": "9f62c34d",
   "metadata": {},
   "source": [
    " # **K Means CLustering** "
   ]
  },
  {
   "cell_type": "markdown",
   "id": "59d654ac",
   "metadata": {},
   "source": [
    "In this analysis, customers will be clustered based on the monetary, age and income. The spending score will be calculated for each individual customer. The spending score ranges from 0 to 100. It is the fraction of the customers total spending to the available maximum spending "
   ]
  },
  {
   "cell_type": "code",
   "execution_count": 51,
   "id": "77a15f1e",
   "metadata": {},
   "outputs": [],
   "source": [
    "# Calculationg spending score \n",
    "\n",
    "# Filter the data\n",
    "spending_data = rfm_data[[\"person\", \"monetary\"]]\n",
    "\n",
    "spending_data[\"spending_score\"] = ((spending_data[\"monetary\"]/spending_data[\"monetary\"].max())*100).astype(int)"
   ]
  },
  {
   "cell_type": "code",
   "execution_count": 52,
   "id": "4a9ea688",
   "metadata": {},
   "outputs": [
    {
     "data": {
      "text/html": [
       "<div>\n",
       "<style scoped>\n",
       "    .dataframe tbody tr th:only-of-type {\n",
       "        vertical-align: middle;\n",
       "    }\n",
       "\n",
       "    .dataframe tbody tr th {\n",
       "        vertical-align: top;\n",
       "    }\n",
       "\n",
       "    .dataframe thead th {\n",
       "        text-align: right;\n",
       "    }\n",
       "</style>\n",
       "<table border=\"1\" class=\"dataframe\">\n",
       "  <thead>\n",
       "    <tr style=\"text-align: right;\">\n",
       "      <th></th>\n",
       "      <th>gender</th>\n",
       "      <th>age</th>\n",
       "      <th>id</th>\n",
       "      <th>income</th>\n",
       "    </tr>\n",
       "  </thead>\n",
       "  <tbody>\n",
       "    <tr>\n",
       "      <th>0</th>\n",
       "      <td>F</td>\n",
       "      <td>55</td>\n",
       "      <td>0610b486422d4921ae7d2bf64640c50b</td>\n",
       "      <td>112000.0</td>\n",
       "    </tr>\n",
       "    <tr>\n",
       "      <th>1</th>\n",
       "      <td>F</td>\n",
       "      <td>75</td>\n",
       "      <td>78afa995795e4d85b5d9ceeca43f5fef</td>\n",
       "      <td>100000.0</td>\n",
       "    </tr>\n",
       "    <tr>\n",
       "      <th>2</th>\n",
       "      <td>M</td>\n",
       "      <td>68</td>\n",
       "      <td>e2127556f4f64592b11af22de27a7932</td>\n",
       "      <td>70000.0</td>\n",
       "    </tr>\n",
       "    <tr>\n",
       "      <th>3</th>\n",
       "      <td>M</td>\n",
       "      <td>65</td>\n",
       "      <td>389bc3fa690240e798340f5a15918d5c</td>\n",
       "      <td>53000.0</td>\n",
       "    </tr>\n",
       "    <tr>\n",
       "      <th>4</th>\n",
       "      <td>M</td>\n",
       "      <td>58</td>\n",
       "      <td>2eeac8d8feae4a8cad5a6af0499a211d</td>\n",
       "      <td>51000.0</td>\n",
       "    </tr>\n",
       "  </tbody>\n",
       "</table>\n",
       "</div>"
      ],
      "text/plain": [
       "  gender  age                                id    income\n",
       "0      F   55  0610b486422d4921ae7d2bf64640c50b  112000.0\n",
       "1      F   75  78afa995795e4d85b5d9ceeca43f5fef  100000.0\n",
       "2      M   68  e2127556f4f64592b11af22de27a7932   70000.0\n",
       "3      M   65  389bc3fa690240e798340f5a15918d5c   53000.0\n",
       "4      M   58  2eeac8d8feae4a8cad5a6af0499a211d   51000.0"
      ]
     },
     "execution_count": 52,
     "metadata": {},
     "output_type": "execute_result"
    }
   ],
   "source": [
    "profile.head()"
   ]
  },
  {
   "cell_type": "markdown",
   "id": "2622f832",
   "metadata": {},
   "source": [
    "The data was merged to find the how each customer on the profile spend. "
   ]
  },
  {
   "cell_type": "code",
   "execution_count": 53,
   "id": "3d6ed492",
   "metadata": {},
   "outputs": [
    {
     "data": {
      "text/html": [
       "<div>\n",
       "<style scoped>\n",
       "    .dataframe tbody tr th:only-of-type {\n",
       "        vertical-align: middle;\n",
       "    }\n",
       "\n",
       "    .dataframe tbody tr th {\n",
       "        vertical-align: top;\n",
       "    }\n",
       "\n",
       "    .dataframe thead th {\n",
       "        text-align: right;\n",
       "    }\n",
       "</style>\n",
       "<table border=\"1\" class=\"dataframe\">\n",
       "  <thead>\n",
       "    <tr style=\"text-align: right;\">\n",
       "      <th></th>\n",
       "      <th>person</th>\n",
       "      <th>monetary</th>\n",
       "      <th>spending_score</th>\n",
       "      <th>gender</th>\n",
       "      <th>age</th>\n",
       "      <th>income</th>\n",
       "    </tr>\n",
       "  </thead>\n",
       "  <tbody>\n",
       "    <tr>\n",
       "      <th>0</th>\n",
       "      <td>0009655768c64bdeb2e877511632db8f</td>\n",
       "      <td>127.60</td>\n",
       "      <td>7</td>\n",
       "      <td>M</td>\n",
       "      <td>33</td>\n",
       "      <td>72000.0</td>\n",
       "    </tr>\n",
       "    <tr>\n",
       "      <th>1</th>\n",
       "      <td>0011e0d4e6b944f998e987f904e8c1e5</td>\n",
       "      <td>79.46</td>\n",
       "      <td>4</td>\n",
       "      <td>O</td>\n",
       "      <td>40</td>\n",
       "      <td>57000.0</td>\n",
       "    </tr>\n",
       "    <tr>\n",
       "      <th>2</th>\n",
       "      <td>0020c2b971eb4e9188eac86d93036a77</td>\n",
       "      <td>196.86</td>\n",
       "      <td>12</td>\n",
       "      <td>F</td>\n",
       "      <td>59</td>\n",
       "      <td>90000.0</td>\n",
       "    </tr>\n",
       "    <tr>\n",
       "      <th>3</th>\n",
       "      <td>0020ccbbb6d84e358d3414a3ff76cffd</td>\n",
       "      <td>154.05</td>\n",
       "      <td>9</td>\n",
       "      <td>F</td>\n",
       "      <td>24</td>\n",
       "      <td>60000.0</td>\n",
       "    </tr>\n",
       "    <tr>\n",
       "      <th>4</th>\n",
       "      <td>003d66b6608740288d6cc97a6903f4f0</td>\n",
       "      <td>48.34</td>\n",
       "      <td>3</td>\n",
       "      <td>F</td>\n",
       "      <td>26</td>\n",
       "      <td>73000.0</td>\n",
       "    </tr>\n",
       "  </tbody>\n",
       "</table>\n",
       "</div>"
      ],
      "text/plain": [
       "                             person  monetary  spending_score gender  age   \n",
       "0  0009655768c64bdeb2e877511632db8f    127.60               7      M   33  \\\n",
       "1  0011e0d4e6b944f998e987f904e8c1e5     79.46               4      O   40   \n",
       "2  0020c2b971eb4e9188eac86d93036a77    196.86              12      F   59   \n",
       "3  0020ccbbb6d84e358d3414a3ff76cffd    154.05               9      F   24   \n",
       "4  003d66b6608740288d6cc97a6903f4f0     48.34               3      F   26   \n",
       "\n",
       "    income  \n",
       "0  72000.0  \n",
       "1  57000.0  \n",
       "2  90000.0  \n",
       "3  60000.0  \n",
       "4  73000.0  "
      ]
     },
     "execution_count": 53,
     "metadata": {},
     "output_type": "execute_result"
    }
   ],
   "source": [
    "cluster_df = spending_data.merge(profile, left_on=\"person\", right_on=\"id\")\n",
    "cluster_df.drop(\"id\", axis=1, inplace=True)\n",
    "cluster_df.head()"
   ]
  },
  {
   "cell_type": "markdown",
   "id": "b603d823",
   "metadata": {},
   "source": [
    "The data will be clustered in two ways; based on age and spending score, based on income and spending score"
   ]
  },
  {
   "cell_type": "markdown",
   "id": "4be82edf",
   "metadata": {},
   "source": [
    "### **Income and spending score KMeans clustering**\n",
    "<br>\n",
    "The income and spending score datasets will be filtered"
   ]
  },
  {
   "cell_type": "code",
   "execution_count": 54,
   "id": "d6319b1f",
   "metadata": {},
   "outputs": [
    {
     "data": {
      "text/plain": [
       "array([[7.2e+04, 7.0e+00],\n",
       "       [5.7e+04, 4.0e+00],\n",
       "       [9.0e+04, 1.2e+01],\n",
       "       ...,\n",
       "       [5.6e+04, 0.0e+00],\n",
       "       [3.4e+04, 5.0e+00],\n",
       "       [6.2e+04, 1.4e+01]])"
      ]
     },
     "execution_count": 54,
     "metadata": {},
     "output_type": "execute_result"
    }
   ],
   "source": [
    "X_income = cluster_df.loc[:,[\"income\", \"spending_score\"]].values\n",
    "X_income"
   ]
  },
  {
   "cell_type": "markdown",
   "id": "b0cf296e",
   "metadata": {},
   "source": [
    "The X data will clustered in cluster range of 1 to 11 to find the optimal clusters. A line graph will be plotted and elbow will be found on the line chart. That's where the optimal number of clusters lie. "
   ]
  },
  {
   "cell_type": "code",
   "execution_count": 55,
   "id": "071398d4",
   "metadata": {},
   "outputs": [
    {
     "data": {
      "image/png": "[encoded data removed]",
      "text/plain": [
       "<Figure size 1200x700 with 1 Axes>"
      ]
     },
     "metadata": {},
     "output_type": "display_data"
    }
   ],
   "source": [
    "wcss = []\n",
    "\n",
    "for i in range(1, 12):\n",
    "    KM = KMeans(n_clusters=i, init=\"k-means++\")\n",
    "    KM.fit(X_income)\n",
    "    wcss.append(KM.inertia_)\n",
    "    \n",
    "# Plot the line chart \n",
    "plt.figure(figsize=(12, 7))\n",
    "sns.set()\n",
    "plt.plot(range(1,12), wcss, color=\"red\", marker=\"*\")\n",
    "plt.xlabel(\"Clusters\")\n",
    "plt.ylabel(\"WCSS\")\n",
    "plt.show()"
   ]
  },
  {
   "cell_type": "markdown",
   "id": "c65210c7",
   "metadata": {},
   "source": [
    "The elbow is at 3. Thats where the line starts to stagnate. Therefore the optimal number of clusters in income and spending score is 3"
   ]
  },
  {
   "cell_type": "code",
   "execution_count": 56,
   "id": "5a94df6d",
   "metadata": {},
   "outputs": [
    {
     "data": {
      "text/plain": [
       "array([2, 2, 1, ..., 0, 0, 2], dtype=int32)"
      ]
     },
     "execution_count": 56,
     "metadata": {},
     "output_type": "execute_result"
    }
   ],
   "source": [
    "KM = KMeans(n_clusters=3) #Created Kmean model with optimal number of clusters \n",
    "income_clusters = KM.fit_predict(X_income)\n",
    "income_clusters"
   ]
  },
  {
   "cell_type": "markdown",
   "id": "c544ff03",
   "metadata": {},
   "source": [
    "Lets now find the cluster centers"
   ]
  },
  {
   "cell_type": "code",
   "execution_count": 57,
   "id": "28cf33e6",
   "metadata": {},
   "outputs": [
    {
     "data": {
      "text/plain": [
       "array([[4.39135869e+04, 4.24674165e+00],\n",
       "       [9.74379705e+04, 1.11364975e+01],\n",
       "       [6.87984921e+04, 7.32350925e+00]])"
      ]
     },
     "execution_count": 57,
     "metadata": {},
     "output_type": "execute_result"
    }
   ],
   "source": [
    "KM.cluster_centers_"
   ]
  },
  {
   "cell_type": "markdown",
   "id": "db82902f",
   "metadata": {},
   "source": [
    "Now lets finally visualize the clusters on a graph"
   ]
  },
  {
   "cell_type": "code",
   "execution_count": 58,
   "id": "db93af93",
   "metadata": {},
   "outputs": [
    {
     "data": {
      "image/png": "[encoded data removed]",
      "text/plain": [
       "<Figure size 640x480 with 1 Axes>"
      ]
     },
     "metadata": {},
     "output_type": "display_data"
    }
   ],
   "source": [
    "plt.scatter(X_income[:, 0], X_income[:, 1], c=KM.labels_, cmap = \"plasma\")\n",
    "plt.scatter(KM.cluster_centers_[:,0], KM.cluster_centers_[:,1], color=\"green\", marker = \"+\")\n",
    "plt.title(\"Cluster of customers according to income\")\n",
    "plt.xlabel(\"Income\")\n",
    "plt.ylabel(\"Spending Score\")\n",
    "plt.show()"
   ]
  },
  {
   "cell_type": "markdown",
   "id": "85a1af1b",
   "metadata": {},
   "source": [
    "All the clusters exhibit the same behaviour however the blue clusters have spending most. These are people with income range between 60000 to 80000. Thats' where starbucks should focus on adds "
   ]
  },
  {
   "cell_type": "markdown",
   "id": "da370093",
   "metadata": {},
   "source": [
    "### **Age and spending score KMeans clustering**"
   ]
  },
  {
   "cell_type": "markdown",
   "id": "bfec2a71",
   "metadata": {},
   "source": [
    "The age and spending score data will be filtered"
   ]
  },
  {
   "cell_type": "code",
   "execution_count": 59,
   "id": "01994c2f",
   "metadata": {},
   "outputs": [
    {
     "data": {
      "text/plain": [
       "array([[33,  7],\n",
       "       [40,  4],\n",
       "       [59, 12],\n",
       "       ...,\n",
       "       [71,  0],\n",
       "       [34,  5],\n",
       "       [45, 14]])"
      ]
     },
     "execution_count": 59,
     "metadata": {},
     "output_type": "execute_result"
    }
   ],
   "source": [
    "X_age = cluster_df.loc[:,[\"age\", \"spending_score\"]].values\n",
    "X_age"
   ]
  },
  {
   "cell_type": "markdown",
   "id": "d6cbd540",
   "metadata": {},
   "source": [
    "The X age data will clustered in cluster range of 1 to 11 to find the optimal clusters. A line graph will be plotted and elbow will be found on the line chart. That's where the optimal number of clusters lie. "
   ]
  },
  {
   "cell_type": "code",
   "execution_count": 60,
   "id": "8526a411",
   "metadata": {},
   "outputs": [
    {
     "data": {
      "image/png": "[encoded data removed]",
      "text/plain": [
       "<Figure size 1200x700 with 1 Axes>"
      ]
     },
     "metadata": {},
     "output_type": "display_data"
    }
   ],
   "source": [
    "wcss = []\n",
    "\n",
    "for i in range(1, 12):\n",
    "    KM = KMeans(n_clusters=i, init=\"k-means++\")\n",
    "    KM.fit(X_age)\n",
    "    wcss.append(KM.inertia_)\n",
    "    \n",
    "# Plot the line chart \n",
    "plt.figure(figsize=(12, 7))\n",
    "sns.set()\n",
    "plt.plot(range(1,12), wcss, color=\"red\", marker=\"*\")\n",
    "plt.xlabel(\"Clusters\")\n",
    "plt.ylabel(\"WCSS\")\n",
    "plt.show()"
   ]
  },
  {
   "cell_type": "markdown",
   "id": "64385133",
   "metadata": {},
   "source": [
    "The elbow is at 3. Thats where the line starts to stagnate. Therefore the optimal number of clusters in age and spending score is "
   ]
  },
  {
   "cell_type": "code",
   "execution_count": 61,
   "id": "fdea7a75",
   "metadata": {},
   "outputs": [
    {
     "data": {
      "text/plain": [
       "array([1, 1, 2, ..., 0, 1, 2], dtype=int32)"
      ]
     },
     "execution_count": 61,
     "metadata": {},
     "output_type": "execute_result"
    }
   ],
   "source": [
    "KM = KMeans(n_clusters=3)\n",
    "income_clusters = KM.fit_predict(X_age)\n",
    "income_clusters"
   ]
  },
  {
   "cell_type": "markdown",
   "id": "8df80c52",
   "metadata": {},
   "source": [
    "Finding cluster centers "
   ]
  },
  {
   "cell_type": "code",
   "execution_count": 62,
   "id": "cc0be9f9",
   "metadata": {},
   "outputs": [
    {
     "data": {
      "text/plain": [
       "array([[74.75974026,  7.68783069],\n",
       "       [31.45300053,  5.14206054],\n",
       "       [54.4611754 ,  7.49345311]])"
      ]
     },
     "execution_count": 62,
     "metadata": {},
     "output_type": "execute_result"
    }
   ],
   "source": [
    "KM.cluster_centers_"
   ]
  },
  {
   "cell_type": "markdown",
   "id": "2fe82bf2",
   "metadata": {},
   "source": [
    "cluster centers along with the wcss and age will visualized onto a scatter plot. The scatterplot will show the clusters with the centroids"
   ]
  },
  {
   "cell_type": "code",
   "execution_count": 63,
   "id": "3e73f546",
   "metadata": {},
   "outputs": [
    {
     "data": {
      "image/png": "[encoded data removed]",
      "text/plain": [
       "<Figure size 640x480 with 1 Axes>"
      ]
     },
     "metadata": {},
     "output_type": "display_data"
    }
   ],
   "source": [
    "plt.scatter(X_age[:, 0], X_age[:, 1], c=KM.labels_, cmap = \"plasma\")\n",
    "plt.scatter(KM.cluster_centers_[:,0], KM.cluster_centers_[:,1], color=\"green\", marker = \"+\")\n",
    "plt.title(\"Cluster of customers according to age\")\n",
    "plt.xlabel(\"Age\")\n",
    "plt.ylabel(\"Spending Score\")\n",
    "plt.show()"
   ]
  },
  {
   "cell_type": "markdown",
   "id": "68d9fde1",
   "metadata": {},
   "source": [
    "The scatter plot shows the yellow cluster had the highest spending score. The yellow cluster include all the age groups but its most dense at age around 60, thats between 55years to 65 years"
   ]
  },
  {
   "cell_type": "code",
   "execution_count": null,
   "id": "972b1bcc",
   "metadata": {},
   "outputs": [],
   "source": []
  }
 ],
 "metadata": {
  "kernelspec": {
   "display_name": "Python 3 (ipykernel)",
   "language": "python",
   "name": "python3"
  },
  "language_info": {
   "codemirror_mode": {
    "name": "ipython",
    "version": 3
   },
   "file_extension": ".py",
   "mimetype": "text/x-python",
   "name": "python",
   "nbconvert_exporter": "python",
   "pygments_lexer": "ipython3",
   "version": "3.10.6"
  }
 },
 "nbformat": 4,
 "nbformat_minor": 5
}
