{
 "cells": [
  {
   "cell_type": "markdown",
   "id": "8730a92b",
   "metadata": {},
   "source": [
    "**Load the required libraries and data**"
   ]
  },
  {
   "cell_type": "code",
   "execution_count": 1,
   "id": "cd20e1b8",
   "metadata": {},
   "outputs": [],
   "source": [
    "# Load the required libraries \n",
    "import pandas as pd\n",
    "import numpy as np \n",
    "from matplotlib import pyplot as plt\n",
    "import seaborn as sns "
   ]
  },
  {
   "cell_type": "code",
   "execution_count": 2,
   "id": "cc7d91c3",
   "metadata": {},
   "outputs": [],
   "source": [
    "# Load the data files \n",
    "\n",
    "# Information about the promotional offers that are possible to receive, and basic information \n",
    "# about each one including the promotional type, duration of the promotion, reward, and how the promotion \n",
    "# was distributed to customers.\n",
    "portfolio = pd.read_csv(\"data/portfolio.csv\")\n",
    "\n",
    "# Dimensional data about each person, including their age, salary, and gender, there is one unique customer \n",
    "# for each record.\n",
    "profile = pd.read_csv(\"data/profile.csv\")\n",
    "\n",
    "# Records show the different steps of promotional offers that a customer received. The different values of \n",
    "# receiving a promotion are receiving, viewing, and completing. You also see the different transactions \n",
    "# that a person made in the time since he became a customer. With all records, you see the day that they \n",
    "# interacted with Starbucks and the amount that is worth\n",
    "transcript = pd.read_csv(\"data/transcript.csv\")"
   ]
  },
  {
   "cell_type": "markdown",
   "id": "9b8069fe",
   "metadata": {},
   "source": [
    "# Explanatory Data Analysis \n",
    "## Data Inspection and Wrangling "
   ]
  },
  {
   "cell_type": "code",
   "execution_count": null,
   "id": "4771b839",
   "metadata": {},
   "outputs": [],
   "source": []
  }
 ],
 "metadata": {
  "kernelspec": {
   "display_name": "Python 3 (ipykernel)",
   "language": "python",
   "name": "python3"
  },
  "language_info": {
   "codemirror_mode": {
    "name": "ipython",
    "version": 3
   },
   "file_extension": ".py",
   "mimetype": "text/x-python",
   "name": "python",
   "nbconvert_exporter": "python",
   "pygments_lexer": "ipython3",
   "version": "3.10.6"
  }
 },
 "nbformat": 4,
 "nbformat_minor": 5
}
