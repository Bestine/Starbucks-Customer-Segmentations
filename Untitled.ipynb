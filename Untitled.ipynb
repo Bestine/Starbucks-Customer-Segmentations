{
 "cells": [
  {
   "cell_type": "code",
   "execution_count": 4,
   "id": "b5262d3e",
   "metadata": {},
   "outputs": [],
   "source": [
    "import panel as pn\n",
    "import pandas as pd\n",
    "import holoviews as hv\n",
    "df = pd.read_csv('https://raw.githubusercontent.com/plotly/datasets/master/iris.csv')\n"
   ]
  },
  {
   "cell_type": "code",
   "execution_count": 9,
   "id": "89d964f9",
   "metadata": {},
   "outputs": [],
   "source": [
    "# Define the scatter and bar plots as separate HoloViews objects\n",
    "scatter = hv.Scatter(df, kdims=['PetalLength'], vdims=['PetalWidth', 'Name'])\n",
    "bars = hv.Bars(df.groupby('Name', as_index=False).mean(),\n",
    "               kdims=['Name'], vdims=['PetalLength'])"
   ]
  },
  {
   "cell_type": "code",
   "execution_count": 11,
   "id": "02cfda86",
   "metadata": {},
   "outputs": [],
   "source": [
    "\n",
    "# Wrap the HoloViews objects into Panel widgets\n",
    "scatter_widget = pn.panel(scatter)\n",
    "bars_widget = pn.panel(bars)"
   ]
  },
  {
   "cell_type": "code",
   "execution_count": 13,
   "id": "3e649bfe",
   "metadata": {},
   "outputs": [
    {
     "name": "stderr",
     "output_type": "stream",
     "text": [
      "WARNING:param.HoloViews00225: Displaying Panel objects in the notebook requires the panel extension to be loaded. Ensure you run pn.extension() before displaying objects in the notebook.\n"
     ]
    },
    {
     "data": {
      "text/plain": [
       "HoloViews(Bars)"
      ]
     },
     "execution_count": 13,
     "metadata": {},
     "output_type": "execute_result"
    }
   ],
   "source": [
    "bars_widget"
   ]
  },
  {
   "cell_type": "code",
   "execution_count": 14,
   "id": "121fc307",
   "metadata": {},
   "outputs": [],
   "source": [
    "# Define the radio button widget to switch between the plots\n",
    "plot_type = pn.widgets.RadioButtonGroup(options={'Scatter': scatter_widget, 'Bars': bars_widget})"
   ]
  },
  {
   "cell_type": "code",
   "execution_count": 15,
   "id": "ab5fd815",
   "metadata": {},
   "outputs": [
    {
     "name": "stderr",
     "output_type": "stream",
     "text": [
      "WARNING:param.: Displaying Panel objects in the notebook requires the panel extension to be loaded. Ensure you run pn.extension() before displaying objects in the notebook.\n"
     ]
    },
    {
     "data": {
      "text/plain": [
       "RadioButtonGroup(options={'Scatter': HoloViews(Scat...}, value=HoloViews)"
      ]
     },
     "execution_count": 15,
     "metadata": {},
     "output_type": "execute_result"
    }
   ],
   "source": [
    "plot_type"
   ]
  },
  {
   "cell_type": "code",
   "execution_count": 18,
   "id": "71303f34",
   "metadata": {},
   "outputs": [
    {
     "name": "stderr",
     "output_type": "stream",
     "text": [
      "/tmp/ipykernel_40601/2981072179.py:2: PanelDeprecationWarning: 'panel.Pane' is deprecated and will be removed in version 1.0, use 'panel.panel' instead.\n",
      "  tabs = {plot_type_option: pn.Tabs(pn.pane.Pane(widget))\n",
      "/tmp/ipykernel_40601/2981072179.py:2: PanelDeprecationWarning: 'panel.Pane' is deprecated and will be removed in version 1.0, use 'panel.panel' instead.\n",
      "  tabs = {plot_type_option: pn.Tabs(pn.pane.Pane(widget))\n"
     ]
    }
   ],
   "source": [
    "# Define the tabs widget to show the plots in different tabs\n",
    "tabs = {plot_type_option: pn.Tabs(pn.pane.Pane(widget))\n",
    "        for plot_type_option, widget in plot_type.options.items()}"
   ]
  },
  {
   "cell_type": "code",
   "execution_count": 19,
   "id": "b81798d4",
   "metadata": {},
   "outputs": [],
   "source": [
    "# Define the app layout with the radio button and tabs widgets\n",
    "app_layout = pn.Row(pn.Column(plot_type), tabs)"
   ]
  },
  {
   "cell_type": "code",
   "execution_count": 21,
   "id": "f2110d3b",
   "metadata": {},
   "outputs": [],
   "source": [
    "\n",
    "# Define a callback to update the tabs widget based on the radio button selection\n",
    "def update_tabs(event):\n",
    "    tabs.clear()\n",
    "    tabs.extend([plot_type.value['Scatter'], plot_type.value['Bars']])"
   ]
  },
  {
   "cell_type": "code",
   "execution_count": 22,
   "id": "bc8b4cd5",
   "metadata": {},
   "outputs": [
    {
     "name": "stderr",
     "output_type": "stream",
     "text": [
      "WARNING:param.Row00236: Displaying Panel objects in the notebook requires the panel extension to be loaded. Ensure you run pn.extension() before displaying objects in the notebook.\n"
     ]
    },
    {
     "data": {
      "text/plain": [
       "Row\n",
       "    [0] Column\n",
       "        [0] RadioButtonGroup(options={'Scatter': HoloViews(Scat...}, value=HoloViews)\n",
       "    [1] Str(dict)"
      ]
     },
     "execution_count": 22,
     "metadata": {},
     "output_type": "execute_result"
    }
   ],
   "source": [
    "\n",
    "\n",
    "\n",
    "plot_type.param.watch(update_tabs, 'value')\n",
    "\n",
    "# Show the app\n",
    "app_layout.servable()"
   ]
  },
  {
   "cell_type": "code",
   "execution_count": null,
   "id": "1235b2ce",
   "metadata": {},
   "outputs": [],
   "source": []
  }
 ],
 "metadata": {
  "kernelspec": {
   "display_name": "Python 3 (ipykernel)",
   "language": "python",
   "name": "python3"
  },
  "language_info": {
   "codemirror_mode": {
    "name": "ipython",
    "version": 3
   },
   "file_extension": ".py",
   "mimetype": "text/x-python",
   "name": "python",
   "nbconvert_exporter": "python",
   "pygments_lexer": "ipython3",
   "version": "3.10.6"
  }
 },
 "nbformat": 4,
 "nbformat_minor": 5
}
