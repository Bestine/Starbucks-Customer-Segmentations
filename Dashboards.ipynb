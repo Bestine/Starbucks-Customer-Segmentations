{
 "cells": [
  {
   "cell_type": "markdown",
   "id": "c2944a0d",
   "metadata": {},
   "source": [
    "**Load the required data and dataset**"
   ]
  },
  {
   "cell_type": "code",
   "execution_count": null,
   "id": "d0769919",
   "metadata": {},
   "outputs": [],
   "source": [
    "# Load the required datasets \n",
    "import pandas as pd \n",
    "import panel as pn\n",
    "import hvplot.pandas\n",
    "import holoviews as hv\n",
    "import numpy as np\n",
    "import seaborn as sns \n",
    "import ast\n",
    "import warnings\n",
    "\n",
    "warnings.filterwarnings(\"ignore\")\n",
    "\n",
    "hv.extension('bokeh')\n",
    "\n",
    "pn.extension('tabulator', sizing_mode=\"stretch_width\")\n"
   ]
  },
  {
   "cell_type": "code",
   "execution_count": null,
   "id": "92fa1b26",
   "metadata": {},
   "outputs": [],
   "source": [
    "# Load the relevant data\n",
    "portfolio = pd.read_csv(\"data/output/portfolio_clean.csv\")\n",
    "profile = pd.read_csv(\"data/output/profile_clean.csv\")\n",
    "\n",
    "# Glimpse of the dataset \n",
    "portfolio"
   ]
  },
  {
   "cell_type": "markdown",
   "id": "d712bc4b",
   "metadata": {},
   "source": [
    "### Data Preprocessing"
   ]
  },
  {
   "cell_type": "code",
   "execution_count": null,
   "id": "f6fbf23a",
   "metadata": {},
   "outputs": [],
   "source": [
    "# Create new age groups \n",
    "bins= [18,36,56,76,150]\n",
    "labels = ['Youth','Middle-Aged','Retired','Aging']\n",
    "\n",
    "\n",
    "profile['ageGroup'] = pd.cut(profile['age'], bins=bins, labels=labels, right=False)\n",
    "profile.head()"
   ]
  },
  {
   "cell_type": "markdown",
   "id": "916111b4",
   "metadata": {},
   "source": [
    "**Set up the environment**"
   ]
  },
  {
   "cell_type": "code",
   "execution_count": null,
   "id": "85e77a92",
   "metadata": {},
   "outputs": [],
   "source": [
    "def environment():\n",
    "    try:\n",
    "        get_ipython()\n",
    "        return \"notebook\"\n",
    "    except:\n",
    "        return \"server\"\n",
    "environment()"
   ]
  },
  {
   "cell_type": "markdown",
   "id": "6c1c9de0",
   "metadata": {},
   "source": [
    "**Aesthetics for UI**"
   ]
  },
  {
   "cell_type": "code",
   "execution_count": null,
   "id": "60c60ca9",
   "metadata": {},
   "outputs": [],
   "source": [
    "PALETTE = [\"#ff6f69\", \"#ffcc5c\", \"#88d8b0\", ]\n",
    "pn.Row(\n",
    "    pn.layout.HSpacer(height=50, background=PALETTE[0]),\n",
    "    pn.layout.HSpacer(height=50, background=PALETTE[1]),\n",
    "    pn.layout.HSpacer(height=50, background=PALETTE[2]),\n",
    ")"
   ]
  },
  {
   "cell_type": "code",
   "execution_count": null,
   "id": "aa70bd1e",
   "metadata": {},
   "outputs": [],
   "source": [
    "# Make the dataframe interactive \n",
    "iportfolio = portfolio.interactive()\n",
    "iportfolio"
   ]
  },
  {
   "cell_type": "code",
   "execution_count": null,
   "id": "a6d456d3",
   "metadata": {},
   "outputs": [],
   "source": [
    "iprofile = profile.interactive()\n",
    "iprofile.head()"
   ]
  },
  {
   "cell_type": "markdown",
   "id": "242ff42b",
   "metadata": {},
   "source": [
    "**Define panel widgets**"
   ]
  },
  {
   "cell_type": "code",
   "execution_count": null,
   "id": "0b689836",
   "metadata": {},
   "outputs": [],
   "source": [
    "# X axis values \n",
    "xaxis = pn.widgets.RadioButtonGroup(\n",
    "    name='X axis', \n",
    "    options=['reward', 'difficulty'],\n",
    "    button_type='success'\n",
    ")\n",
    "\n",
    "# Y axis values \n",
    "yaxis = pn.widgets.RadioButtonGroup(\n",
    "    name='Y axis', \n",
    "    options=['difficulty', 'duration'],\n",
    "    button_type='success'\n",
    ")\n",
    "\n",
    "# demographics values \n",
    "demographics = pn.widgets.RadioButtonGroup(\n",
    "    name='Demographics', \n",
    "    options=['gender', 'ageGroup'],\n",
    "    button_type='success'\n",
    ")\n"
   ]
  },
  {
   "cell_type": "code",
   "execution_count": null,
   "id": "782e7f75",
   "metadata": {},
   "outputs": [],
   "source": [
    "portfolio_pipeline = (iportfolio) # for portfolio\n",
    "\n",
    "#for profile\n",
    "profile_pipeline = (iprofile[[demographics, \"income\"]].groupby(demographics).mean().reset_index())"
   ]
  },
  {
   "cell_type": "code",
   "execution_count": null,
   "id": "d1287a3e",
   "metadata": {},
   "outputs": [],
   "source": [
    "if environment()==\"server\":\n",
    "    theme=\"fast\"\n",
    "else:\n",
    "    theme=\"simple\""
   ]
  },
  {
   "cell_type": "code",
   "execution_count": null,
   "id": "fec757e7",
   "metadata": {},
   "outputs": [],
   "source": [
    "# itable = ipipeline.pipe(pn.widgets.Tabulator, pagination='remote', page_size=10) #for portfolio\n",
    "\n",
    "profile_table = profile_pipeline.pipe(pn.widgets.Tabulator, pagination='remote')\n",
    "profile_table"
   ]
  },
  {
   "cell_type": "code",
   "execution_count": null,
   "id": "59c231e7",
   "metadata": {},
   "outputs": [],
   "source": [
    "# ihvplot = ipipeline.hvplot(x='mpg', y=yaxis, by='origin', color=PALETTE, line_width=6, height=400)\n",
    "# ihvplot\n",
    "\n",
    "ihvscatter = portfolio_pipeline.hvplot(x=xaxis, y=yaxis, by='offer_type', \n",
    "                              color=PALETTE, kind=\"scatter\", height=600)\n",
    "ihvscatter"
   ]
  },
  {
   "cell_type": "code",
   "execution_count": null,
   "id": "042ead25",
   "metadata": {},
   "outputs": [],
   "source": [
    "ihvbarchart = profile_pipeline.hvplot(x=demographics, y=\"income\", \n",
    "                              color=PALETTE, kind=\"bar\", width=600)\n",
    "ihvbarchart"
   ]
  },
  {
   "cell_type": "code",
   "execution_count": null,
   "id": "69a300e9",
   "metadata": {},
   "outputs": [],
   "source": [
    "template = pn.template.FastListTemplate(\n",
    "    title='Interactive DataFrame Dashboards with hvplot .interactive', \n",
    "    sidebar=['X axis' , xaxis, 'Y axis' , yaxis, 'Demographics', demographics],\n",
    "    main=[ihvscatter.panel(), \n",
    "         (ihvbarchart+ profile_pipeline.hvplot.table(width=250)).panel()],\n",
    "    accent_base_color=\"#88d8b0\",\n",
    "    header_background=\"#88d8b0\",\n",
    ")\n",
    "# template.show()\n",
    "template.servable();"
   ]
  },
  {
   "cell_type": "markdown",
   "id": "8bab6dc0",
   "metadata": {},
   "source": [
    "Please note that to get the Tabulator table styled nicely for dark mode you can set `theme='fast'` when you define the `itable`. It won't work in the notebook though.\n",
    "\n",
    "To *serve the notebook* run `panel serve Dashboards.ipynb`."
   ]
  },
  {
   "cell_type": "code",
   "execution_count": null,
   "id": "1f711351",
   "metadata": {},
   "outputs": [],
   "source": []
  }
 ],
 "metadata": {
  "kernelspec": {
   "display_name": "Python 3 (ipykernel)",
   "language": "python",
   "name": "python3"
  },
  "language_info": {
   "codemirror_mode": {
    "name": "ipython",
    "version": 3
   },
   "file_extension": ".py",
   "mimetype": "text/x-python",
   "name": "python",
   "nbconvert_exporter": "python",
   "pygments_lexer": "ipython3",
   "version": "3.10.6"
  }
 },
 "nbformat": 4,
 "nbformat_minor": 5
}
